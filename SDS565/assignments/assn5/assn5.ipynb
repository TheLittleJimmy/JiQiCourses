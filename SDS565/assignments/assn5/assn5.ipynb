{
 "cells": [
  {
   "cell_type": "markdown",
   "id": "1ad6cbbf",
   "metadata": {},
   "source": [
    "## Introductory Machine Learning: Assignment 5\n",
    "\n",
    "**Deadline:**\n",
    "\n",
    "Assignment 5 is due Thursday, November 11 at 11:59pm. Late work will not be accepted as per the course policies (see the Syllabus and Course policies on [Canvas](https://canvas.yale.edu).\n",
    "\n",
    "Directly sharing answers is not okay, but discussing problems with the course staff or with other students is encouraged.\n",
    "\n",
    "You should start early so that you have time to get help if you're stuck. The drop-in office hours schedule can be found on [Canvas](https://canvas.yale.edu).  You can also post questions or start discussions on [Ed Discussion](https://edstem.org/us/courses/9209/discussion/). The problems are broken up into steps that should help you to make steady progress.\n",
    "\n",
    "**Submission:**\n",
    "\n",
    "Submit your assignment as a .pdf on Gradescope, and as a .ipynb on Canvas. You can access Gradescope through Canvas on the left-side of the class home page. The problems in each homework assignment are numbered. Note: When submitting on Gradescope, please select the correct pages of your pdf that correspond to each problem. This will allow graders to find your complete solution to each problem.\n",
    "\n",
    "To produce the .pdf, please do the following in order to preserve the cell structure of the notebook:  \n",
    "1.  Go to \"File\" at the top-left of your Jupyter Notebook\n",
    "2.  Under \"Download as\", select \"HTML (.html)\"\n",
    "3.  After the .html has downloaded, open it and then select \"File\" and \"Print\" (note you will not actually be printing)\n",
    "4.  From the print window, select the option to save as a .pdf\n",
    "\n",
    "**Topics**\n",
    "1. Language models\n",
    "2. Work embeddings"
   ]
  },
  {
   "cell_type": "markdown",
   "id": "74121625",
   "metadata": {},
   "source": [
    "### Problem 1: Gutenberg Books Language Models (15 points)\n",
    "\n",
    "For this problem you will process books from the [Project Gutenberg](https://www.gutenberg.org/) site which is a public respository of large numbers of books that are in the public domain. You'll build *character-based* (as opposed to word-based) language models on one book, and predict the letters of the other book using the model.\n"
   ]
  },
  {
   "cell_type": "code",
   "execution_count": 1,
   "id": "13d2908f",
   "metadata": {},
   "outputs": [],
   "source": [
    "import numpy as np\n",
    "from collections import Counter\n",
    "import matplotlib.pyplot as plots\n",
    "%matplotlib inline"
   ]
  },
  {
   "cell_type": "markdown",
   "id": "cf2bd8cc",
   "metadata": {},
   "source": [
    "The following helper function `read_url` reads in the text at the given url, and then uses some \n",
    "[regular expressions](https://www.w3schools.com/python/python_regex.asp) to process the book, removing \n",
    "everything but the letters a-z, space and period."
   ]
  },
  {
   "cell_type": "code",
   "execution_count": 2,
   "id": "dbe84506",
   "metadata": {},
   "outputs": [],
   "source": [
    "from urllib.request import urlopen \n",
    "import re\n",
    "def read_url(url): \n",
    "    return re.sub('\\\\s+', ' ', urlopen(url).read().decode())\n",
    "\n",
    "def process_text(text):\n",
    "    text = re.sub('[^a-zA-z .]', '', text.lower())\n",
    "    return re.sub('[\\[\\]\\_]', '', text)\n"
   ]
  },
  {
   "cell_type": "markdown",
   "id": "4140ccd3",
   "metadata": {},
   "source": [
    "<img src=\"https://www.gutenberg.org/cache/epub/76/pg76.cover.medium.jpg\" width=\"110\" align=\"top\">\n",
    "\n",
    "The online book for \"Adventures of Huckleberry Finn,\" by Mark Twain, is [here](https://www.gutenberg.org/ebooks/76).\n",
    "From this web site you can see various metadata for the book as well as the [link the text itself](https://www.gutenberg.org/files/76/76-0.txt), which is [https://www.gutenberg.org/files/76/76-0.txt](https://www.gutenberg.org/files/76/76-0.txt)\n",
    "\n",
    "The book for Mark Twain's \"A Connecticut Yankee in King Arthur's Court\" is [here](https://www.gutenberg.org/ebooks/86).\n",
    "In the following cell we read in both of these books, and remove all characters except a-z, space, and period."
   ]
  },
  {
   "cell_type": "code",
   "execution_count": 3,
   "id": "64f1e225",
   "metadata": {},
   "outputs": [],
   "source": [
    "huck_finn_url = 'https://www.gutenberg.org/files/76/76-0.txt'\n",
    "huck_finn_text_raw = read_url(huck_finn_url)\n",
    "huck_finn_text = process_text(huck_finn_text_raw)\n",
    "\n",
    "ct_yankee_url = 'https://www.gutenberg.org/files/86/86-0.txt'\n",
    "ct_yankee_text_raw = read_url(ct_yankee_url)\n",
    "ct_yankee_text = process_text(ct_yankee_text_raw)"
   ]
  },
  {
   "cell_type": "code",
   "execution_count": 4,
   "id": "2bc3ce42",
   "metadata": {},
   "outputs": [
    {
     "name": "stdout",
     "output_type": "stream",
     "text": [
      "\n",
      "Sample of raw text:\n",
      "\n",
      "my old rags and my sugar-hogshead again, and was free and satisfied. But Tom Sawyer he hunted me up and said he was going to start a band of robbers, and I might join if I would go back to the widow and be respectable. So I went back. The widow she cried over me, and called me a poor lost lamb, and she called me a lot of other names, too, but she never meant no harm by it. She put me in them new clothes again, and I couldn't do nothing but sweat and sweat, and feel all cramped up. Well, then, the old thing commenced again. The widow rung a bell for supper, and you had to come to time. When you got to the table you couldn't go right to eating, but you had to wait for the widow to tuck down her head and grumble a little over the victuals, though there warn't really anything the matter with them,--that is, nothing only everything was cooked by itself. In a barrel of odds and ends it is different; things get mixed up, and the juice kind of swaps around, and the things go better. After supp\n",
      "\n",
      "Sample of processed text:\n",
      "\n",
      "he widow rung a bell for supper and you had to come to time. when you got to the table you couldnt go right to eating but you had to wait for the widow to tuck down her head and grumble a little over the victuals though there warnt really anything the matter with themthat is nothing only everything was cooked by itself. in a barrel of odds and ends it is different things get mixed up and the juice kind of swaps around and the things go better. after supper she got out her book and learned me about moses and the bulrushers and i was in a sweat to find out all about him but by and by she let it out that moses had been dead a considerable long time so then i didnt care no more about him because i dont take no stock in dead people. pretty soon i wanted to smoke and asked the widow to let me. but she wouldnt. she said it was a mean practice and wasnt clean and i must try to not do it any more. that is just the way with some people. they get down on a thing when they dont know nothing about \n"
     ]
    }
   ],
   "source": [
    "print(\"\\nSample of raw text:\\n\")\n",
    "print(huck_finn_text_raw[10000:11000])\n",
    "\n",
    "print(\"\\nSample of processed text:\\n\")\n",
    "print(huck_finn_text[10000:11000])"
   ]
  },
  {
   "cell_type": "markdown",
   "id": "e7fd7196",
   "metadata": {},
   "source": [
    "<img src=\"https://www.gutenberg.org/cache/epub/1342/pg1342.cover.medium.jpg\" width=\"110\" align=\"top\">\n",
    "\n",
    "\n",
    "The online book for \"Pride and Prejudice\", by Jane Austen, is [here](https://www.gutenberg.org/ebooks/1342).\n",
    "And [here](https://www.gutenberg.org/ebooks/158) is the online book for Jane Austen's \"Emma\".  In the following cell we read in both of these books, and remove all characters except a-z, space, and period.\n",
    "\n"
   ]
  },
  {
   "cell_type": "code",
   "execution_count": 5,
   "id": "5ec75257",
   "metadata": {},
   "outputs": [],
   "source": [
    "pride_and_prejudice_url = 'https://www.gutenberg.org/files/1342/1342-0.txt'\n",
    "pride_and_prejudice_text_raw = read_url(pride_and_prejudice_url)\n",
    "pride_and_prejudice_text = process_text(pride_and_prejudice_text_raw)\n",
    "\n",
    "\n",
    "emma_url = 'https://www.gutenberg.org/files/158/158-0.txt'\n",
    "emma_text_raw = read_url(emma_url)\n",
    "emma_text = process_text(emma_text_raw)"
   ]
  },
  {
   "cell_type": "code",
   "execution_count": 6,
   "id": "506137c9",
   "metadata": {},
   "outputs": [
    {
     "name": "stdout",
     "output_type": "stream",
     "text": [
      "\n",
      "Sample of raw text:\n",
      "\n",
      "all are.” Emma spared no exertions to maintain this happier flow of ideas, and hoped, by the help of backgammon, to get her father tolerably through the evening, and be attacked by no regrets but her own. The backgammon-table was placed; but a visitor immediately afterwards walked in and made it unnecessary. Mr. Knightley, a sensible man about seven or eight-and-thirty, was not only a very old and intimate friend of the family, but particularly connected with it, as the elder brother of Isabella’s husband. He lived about a mile from Highbury, was a frequent visitor, and always welcome, and at this time more welcome than usual, as coming directly from their mutual connexions in London. He had returned to a late dinner, after some days’ absence, and now walked up to Hartfield to say that all were well in Brunswick Square. It was a happy circumstance, and animated Mr. Woodhouse for some time. Mr. Knightley had a cheerful manner, which always did him good; and his many inquiries after “poo\n",
      "\n",
      "Sample of processed text:\n",
      "\n",
      "diately afterwards walked in and made it unnecessary. mr. knightley a sensible man about seven or eightandthirty was not only a very old and intimate friend of the family but particularly connected with it as the elder brother of isabellas husband. he lived about a mile from highbury was a frequent visitor and always welcome and at this time more welcome than usual as coming directly from their mutual connexions in london. he had returned to a late dinner after some days absence and now walked up to hartfield to say that all were well in brunswick square. it was a happy circumstance and animated mr. woodhouse for some time. mr. knightley had a cheerful manner which always did him good and his many inquiries after poor isabella and her children were answered most satisfactorily. when this was over mr. woodhouse gratefully observed it is very kind of you mr. knightley to come out at this late hour to call upon us. i am afraid you must have had a shocking walk. not at all sir. it is a bea\n"
     ]
    }
   ],
   "source": [
    "print(\"\\nSample of raw text:\\n\")\n",
    "print(emma_text_raw[10000:11000])\n",
    "\n",
    "print(\"\\nSample of processed text:\\n\")\n",
    "print(emma_text[10000:11000])"
   ]
  },
  {
   "cell_type": "markdown",
   "id": "4f2e9c9b",
   "metadata": {},
   "source": [
    "The following cell defines some helper code. You should just run this cell; do not change any of the code. \n",
    "\n",
    "The first function, `ngrams`, takes some input text and a value of `n`. The function then \n",
    "iterates over the string and counts the number of occurrences of each substring of `n` characters. This is done with the very handy `Counter` class. \n",
    "\n",
    "We then define a class `language_model` that is a 4-gram character-based language model. The probability of the \"next character\" is computed using linear interpolation, as described in class.  A weight is assigned to unigrams, bigrams, trigrams, and four-grams (quadgrams?). The bigram probability that, for example, the letter `t` follows the letter `h` is the count of the bigram `ht` divided by the count of the unigram `h`. We add a little bit (1e-10) to the denominator to avoid dividing by zero. \n",
    "\n",
    "We return the logarithm of the probability, because this will be convenient when computing perplexities.\n"
   ]
  },
  {
   "cell_type": "code",
   "execution_count": 7,
   "id": "2a543b45",
   "metadata": {},
   "outputs": [],
   "source": [
    "def ngrams(text, n=2):\n",
    "    return Counter([text[(i-n):i] for i in np.arange(n, len(text)+1)])\n",
    "\n",
    "class language_model:\n",
    "\n",
    "    def __init__(self, text):\n",
    "        self.one = ngrams(text, 1)\n",
    "        self.two = ngrams(text, 2)\n",
    "        self.three = ngrams(text, 3)\n",
    "        self.four = ngrams(text, 4)\n",
    "        self.weight = [0.1, 0.2, 0.3, 0.4]\n",
    "        \n",
    "    def set_weights(self, weights):\n",
    "        self.weight = weights / np.sum(weights)\n",
    "        \n",
    "    def log_probability(self, gram):\n",
    "        numer = [self.one[gram[3:]], self.two[gram[2:]], self.three[gram[1:]], self.four[gram[0:]]]\n",
    "        denom = [sum(self.one[g] for g in self.one), self.one[gram[2:3]], self.two[gram[1:3]], self.three[gram[0:3]]]\n",
    "        prob = 0\n",
    "        for i in np.arange(4):\n",
    "            prob += self.weight[i] * numer[i] / (denom[i]+1e-10)\n",
    "        return np.log(prob)\n",
    "    \n"
   ]
  },
  {
   "cell_type": "markdown",
   "id": "c358d434",
   "metadata": {},
   "source": [
    "### Problem 1.1\n",
    "\n",
    "Just to be sure we understand what a character-based language model is, let's write an expression \n",
    "for the probability in an example. Suppose the language model assigns \n",
    "weight $w_1 = 0.1$ to the unigram model, weight $w_2 = 0.2$ to the bigram model, weight $w_3 = 0.3$ to the trigram model, and weight $w_4 = .4$ to the four-gram model. Note that we must have $w_1+w_2+w_3+w_4 = 1$.\n",
    "\n",
    "Write an expression for the probability $p(\\mbox{z} \\,|\\, \\mbox{qui})$ that the letter $\\mbox{z}$ follows the three letters $\\mbox{qui}$. Assume that the unigram, bigram, trigram, and four-gram components are given by ratios of \n",
    "counts in the training data, as in the code above. For example, the bigram probability would be written as \n",
    "\n",
    "$$ \\frac{\\mbox{count}(iz)}{\\mbox{count}(i)}$$\n"
   ]
  },
  {
   "cell_type": "markdown",
   "id": "cfb18c58",
   "metadata": {},
   "source": [
    "$p(\\mbox{z} \\,|\\, \\mbox{qui})$ = $ w1 * \\frac{\\mbox{count}(z)}{\\mbox{count}(all  letters)}w_2 * \\frac{\\mbox{count}(iz)}{\\mbox{count}(i)} + w_3 * \\frac{\\mbox{count}(uiz)}{\\mbox{count}(ui)} + w_4 * \\frac{\\mbox{count}(quiz)}{\\mbox{count}(qui)}$"
   ]
  },
  {
   "cell_type": "markdown",
   "id": "b07c663c",
   "metadata": {},
   "source": [
    "Now, the cell below constructs two language models, one on the text of Jane Austen's \"Emma\", the other on \n",
    "the text of Mark Twain's \"Huckleberry Finn\". "
   ]
  },
  {
   "cell_type": "code",
   "execution_count": 8,
   "id": "2a7ce098",
   "metadata": {},
   "outputs": [
    {
     "data": {
      "text/plain": [
       "Counter({'the ': 5397,\n",
       "         'he p': 533,\n",
       "         'e pr': 283,\n",
       "         ' pro': 649,\n",
       "         'proj': 93,\n",
       "         'roje': 93,\n",
       "         'ojec': 93,\n",
       "         'ject': 288,\n",
       "         'ect ': 396,\n",
       "         'ct g': 91,\n",
       "         't gu': 93,\n",
       "         ' gut': 88,\n",
       "         'gute': 97,\n",
       "         'uten': 98,\n",
       "         'tenb': 98,\n",
       "         'enbe': 97,\n",
       "         'nber': 97,\n",
       "         'berg': 97,\n",
       "         'erg ': 31,\n",
       "         'rg e': 4,\n",
       "         'g eb': 4,\n",
       "         ' ebo': 20,\n",
       "         'eboo': 21,\n",
       "         'book': 37,\n",
       "         'ook ': 192,\n",
       "         'ok o': 19,\n",
       "         'k of': 150,\n",
       "         ' of ': 4364,\n",
       "         'of e': 130,\n",
       "         'f em': 21,\n",
       "         ' emm': 845,\n",
       "         'emma': 870,\n",
       "         'mma ': 720,\n",
       "         'ma b': 27,\n",
       "         'a by': 3,\n",
       "         ' by ': 591,\n",
       "         'by j': 4,\n",
       "         'y ja': 7,\n",
       "         ' jan': 299,\n",
       "         'jane': 303,\n",
       "         'ane ': 278,\n",
       "         'ne a': 120,\n",
       "         'e au': 19,\n",
       "         ' aus': 4,\n",
       "         'aust': 5,\n",
       "         'uste': 20,\n",
       "         'sten': 71,\n",
       "         'ten ': 187,\n",
       "         'en t': 359,\n",
       "         'n th': 1317,\n",
       "         ' thi': 1509,\n",
       "         'this': 574,\n",
       "         'his ': 1697,\n",
       "         'is e': 81,\n",
       "         's eb': 8,\n",
       "         'ok i': 14,\n",
       "         'k is': 11,\n",
       "         ' is ': 1236,\n",
       "         'is f': 148,\n",
       "         's fo': 187,\n",
       "         ' for': 1715,\n",
       "         'for ': 1347,\n",
       "         'or t': 389,\n",
       "         'r th': 769,\n",
       "         ' the': 7424,\n",
       "         'he u': 82,\n",
       "         'e us': 72,\n",
       "         ' use': 130,\n",
       "         'use ': 527,\n",
       "         'se o': 144,\n",
       "         'e of': 1094,\n",
       "         'of a': 403,\n",
       "         'f an': 206,\n",
       "         ' any': 716,\n",
       "         'anyo': 5,\n",
       "         'nyon': 5,\n",
       "         'yone': 6,\n",
       "         'one ': 693,\n",
       "         'e an': 1002,\n",
       "         'anyw': 19,\n",
       "         'nywh': 19,\n",
       "         'ywhe': 23,\n",
       "         'wher': 129,\n",
       "         'here': 915,\n",
       "         'ere ': 1401,\n",
       "         're i': 386,\n",
       "         'e in': 662,\n",
       "         ' in ': 2183,\n",
       "         'in t': 714,\n",
       "         'e un': 119,\n",
       "         ' uni': 43,\n",
       "         'unit': 51,\n",
       "         'nite': 47,\n",
       "         'ited': 95,\n",
       "         'ted ': 792,\n",
       "         'ed s': 191,\n",
       "         'd st': 81,\n",
       "         ' sta': 244,\n",
       "         'stat': 100,\n",
       "         'tate': 117,\n",
       "         'ates': 223,\n",
       "         'tes ': 203,\n",
       "         'es a': 291,\n",
       "         's an': 683,\n",
       "         ' and': 4605,\n",
       "         'and ': 5165,\n",
       "         'nd m': 456,\n",
       "         'd mo': 98,\n",
       "         ' mos': 253,\n",
       "         'most': 362,\n",
       "         'ost ': 385,\n",
       "         'st o': 144,\n",
       "         't ot': 15,\n",
       "         ' oth': 319,\n",
       "         'othe': 588,\n",
       "         'ther': 1927,\n",
       "         'her ': 3298,\n",
       "         'er p': 200,\n",
       "         'r pa': 86,\n",
       "         ' par': 431,\n",
       "         'part': 376,\n",
       "         'arts': 9,\n",
       "         'rts ': 24,\n",
       "         'ts o': 80,\n",
       "         's of': 605,\n",
       "         'of t': 945,\n",
       "         'f th': 992,\n",
       "         'he w': 1337,\n",
       "         'e wo': 477,\n",
       "         ' wor': 445,\n",
       "         'worl': 87,\n",
       "         'orld': 87,\n",
       "         'rld ': 64,\n",
       "         'ld a': 140,\n",
       "         'd at': 169,\n",
       "         ' at ': 1029,\n",
       "         'at n': 54,\n",
       "         't no': 277,\n",
       "         ' no ': 680,\n",
       "         'no c': 37,\n",
       "         'o co': 216,\n",
       "         ' cos': 6,\n",
       "         'cost': 8,\n",
       "         'st a': 236,\n",
       "         't an': 561,\n",
       "         'nd w': 441,\n",
       "         'd wi': 388,\n",
       "         ' wit': 1536,\n",
       "         'with': 1526,\n",
       "         'ith ': 1315,\n",
       "         'th a': 315,\n",
       "         'h al': 79,\n",
       "         ' alm': 89,\n",
       "         'almo': 91,\n",
       "         'lmos': 91,\n",
       "         'st n': 92,\n",
       "         'no r': 37,\n",
       "         'o re': 168,\n",
       "         ' res': 340,\n",
       "         'rest': 217,\n",
       "         'estr': 22,\n",
       "         'stri': 57,\n",
       "         'tric': 20,\n",
       "         'rict': 9,\n",
       "         'icti': 28,\n",
       "         'ctio': 293,\n",
       "         'tion': 1572,\n",
       "         'ions': 335,\n",
       "         'ons ': 474,\n",
       "         'ns w': 80,\n",
       "         's wh': 234,\n",
       "         ' wha': 514,\n",
       "         'what': 563,\n",
       "         'hats': 21,\n",
       "         'atso': 2,\n",
       "         'tsoe': 2,\n",
       "         'soev': 2,\n",
       "         'oeve': 8,\n",
       "         'ever': 1271,\n",
       "         'ver.': 46,\n",
       "         'er. ': 424,\n",
       "         'r. y': 22,\n",
       "         '. yo': 246,\n",
       "         ' you': 2655,\n",
       "         'you ': 1933,\n",
       "         'ou m': 212,\n",
       "         'u ma': 63,\n",
       "         ' may': 236,\n",
       "         'may ': 235,\n",
       "         'ay c': 28,\n",
       "         'y co': 236,\n",
       "         ' cop': 50,\n",
       "         'copy': 38,\n",
       "         'opy ': 13,\n",
       "         'py i': 14,\n",
       "         'y it': 77,\n",
       "         ' it ': 2175,\n",
       "         'it g': 9,\n",
       "         't gi': 38,\n",
       "         ' giv': 304,\n",
       "         'give': 271,\n",
       "         'ive ': 375,\n",
       "         've i': 113,\n",
       "         'e it': 305,\n",
       "         'it a': 250,\n",
       "         't aw': 23,\n",
       "         ' awa': 169,\n",
       "         'away': 141,\n",
       "         'way ': 239,\n",
       "         'ay o': 66,\n",
       "         'y or': 59,\n",
       "         ' or ': 548,\n",
       "         'or r': 37,\n",
       "         'r re': 126,\n",
       "         ' reu': 3,\n",
       "         'reus': 2,\n",
       "         'euse': 2,\n",
       "         'se i': 118,\n",
       "         'it u': 22,\n",
       "         't un': 80,\n",
       "         ' und': 231,\n",
       "         'unde': 244,\n",
       "         'nder': 361,\n",
       "         'der ': 221,\n",
       "         'er t': 751,\n",
       "         'he t': 398,\n",
       "         'e te': 69,\n",
       "         ' ter': 44,\n",
       "         'term': 82,\n",
       "         'erms': 31,\n",
       "         'rms ': 33,\n",
       "         'ms o': 36,\n",
       "         'rg l': 16,\n",
       "         'g li': 44,\n",
       "         ' lic': 19,\n",
       "         'lice': 24,\n",
       "         'icen': 23,\n",
       "         'cens': 27,\n",
       "         'ense': 123,\n",
       "         'nse ': 101,\n",
       "         ' inc': 152,\n",
       "         'incl': 58,\n",
       "         'nclu': 44,\n",
       "         'clud': 42,\n",
       "         'lude': 28,\n",
       "         'uded': 18,\n",
       "         'ded ': 285,\n",
       "         'ed w': 338,\n",
       "         'th t': 270,\n",
       "         'h th': 401,\n",
       "         'k or': 19,\n",
       "         'or o': 92,\n",
       "         'r on': 78,\n",
       "         ' onl': 334,\n",
       "         'onli': 6,\n",
       "         'nlin': 5,\n",
       "         'line': 76,\n",
       "         'ine ': 182,\n",
       "         'e at': 198,\n",
       "         'at w': 225,\n",
       "         't ww': 7,\n",
       "         ' www': 9,\n",
       "         'www.': 9,\n",
       "         'ww.g': 9,\n",
       "         'w.gu': 9,\n",
       "         '.gut': 9,\n",
       "         'erg.': 9,\n",
       "         'rg.o': 9,\n",
       "         'g.or': 9,\n",
       "         '.org': 9,\n",
       "         'org.': 2,\n",
       "         'rg. ': 2,\n",
       "         'g. i': 50,\n",
       "         '. if': 101,\n",
       "         ' if ': 481,\n",
       "         'if y': 107,\n",
       "         'f yo': 205,\n",
       "         'ou a': 290,\n",
       "         'u ar': 153,\n",
       "         ' are': 476,\n",
       "         'are ': 662,\n",
       "         're n': 129,\n",
       "         'e no': 412,\n",
       "         ' not': 2473,\n",
       "         'not ': 2290,\n",
       "         'ot l': 78,\n",
       "         't lo': 53,\n",
       "         ' loc': 13,\n",
       "         'loca': 11,\n",
       "         'ocat': 16,\n",
       "         'cate': 43,\n",
       "         'ated': 155,\n",
       "         'ed i': 439,\n",
       "         'd in': 430,\n",
       "         'es y': 31,\n",
       "         's yo': 171,\n",
       "         'ou w': 265,\n",
       "         'u wi': 122,\n",
       "         ' wil': 608,\n",
       "         'will': 635,\n",
       "         'ill ': 1022,\n",
       "         'll h': 212,\n",
       "         'l ha': 92,\n",
       "         ' hav': 1472,\n",
       "         'have': 1343,\n",
       "         'ave ': 1440,\n",
       "         've t': 232,\n",
       "         'e to': 992,\n",
       "         ' to ': 5206,\n",
       "         'to c': 219,\n",
       "         'o ch': 48,\n",
       "         ' che': 79,\n",
       "         'chec': 19,\n",
       "         'heck': 19,\n",
       "         'eck ': 9,\n",
       "         'ck t': 23,\n",
       "         'k th': 79,\n",
       "         'he l': 343,\n",
       "         'e la': 151,\n",
       "         ' law': 31,\n",
       "         'laws': 13,\n",
       "         'aws ': 15,\n",
       "         'ws o': 19,\n",
       "         'he c': 932,\n",
       "         'e co': 805,\n",
       "         ' cou': 1017,\n",
       "         'coun': 142,\n",
       "         'ount': 142,\n",
       "         'untr': 30,\n",
       "         'ntry': 43,\n",
       "         'try ': 59,\n",
       "         'ry w': 171,\n",
       "         'y wh': 155,\n",
       "         ' whe': 538,\n",
       "         're y': 146,\n",
       "         'e yo': 463,\n",
       "         're l': 44,\n",
       "         'e lo': 144,\n",
       "         'ed b': 310,\n",
       "         'd be': 913,\n",
       "         ' bef': 258,\n",
       "         'befo': 259,\n",
       "         'efor': 333,\n",
       "         'fore': 350,\n",
       "         'ore ': 740,\n",
       "         're u': 21,\n",
       "         ' usi': 8,\n",
       "         'usin': 86,\n",
       "         'sing': 240,\n",
       "         'ing ': 4560,\n",
       "         'ng t': 939,\n",
       "         'g th': 441,\n",
       "         'ook.': 6,\n",
       "         'ok. ': 6,\n",
       "         'k. t': 11,\n",
       "         '. ti': 9,\n",
       "         ' tit': 2,\n",
       "         'titl': 6,\n",
       "         'itle': 6,\n",
       "         'tle ': 395,\n",
       "         'le e': 57,\n",
       "         'e em': 54,\n",
       "         'ma a': 71,\n",
       "         'a au': 1,\n",
       "         ' aut': 17,\n",
       "         'auth': 10,\n",
       "         'utho': 10,\n",
       "         'thor': 42,\n",
       "         'hor ': 3,\n",
       "         'or j': 19,\n",
       "         'r ja': 38,\n",
       "         'en r': 26,\n",
       "         'n re': 89,\n",
       "         ' rel': 54,\n",
       "         'rele': 11,\n",
       "         'elea': 3,\n",
       "         'leas': 406,\n",
       "         'ease': 171,\n",
       "         'ase ': 108,\n",
       "         'se d': 20,\n",
       "         'e da': 126,\n",
       "         ' dat': 8,\n",
       "         'date': 13,\n",
       "         'ate ': 302,\n",
       "         'te a': 159,\n",
       "         ' aug': 11,\n",
       "         'augu': 10,\n",
       "         'ugus': 8,\n",
       "         'gust': 20,\n",
       "         'ust ': 768,\n",
       "         'st  ': 1,\n",
       "         't  e': 1,\n",
       "         '  eb': 1,\n",
       "         'ok  ': 1,\n",
       "         'k  m': 1,\n",
       "         '  mo': 1,\n",
       "         'st r': 61,\n",
       "         't re': 208,\n",
       "         ' rec': 227,\n",
       "         'rece': 86,\n",
       "         'ecen': 7,\n",
       "         'cent': 26,\n",
       "         'entl': 185,\n",
       "         'ntly': 137,\n",
       "         'tly ': 350,\n",
       "         'ly u': 39,\n",
       "         'y up': 10,\n",
       "         ' upd': 2,\n",
       "         'upda': 2,\n",
       "         'pdat': 2,\n",
       "         'ed j': 16,\n",
       "         'd ju': 42,\n",
       "         ' jun': 8,\n",
       "         'june': 8,\n",
       "         'une ': 44,\n",
       "         'ne  ': 1,\n",
       "         'e   ': 1,\n",
       "         '   l': 1,\n",
       "         '  la': 1,\n",
       "         ' lan': 30,\n",
       "         'lang': 15,\n",
       "         'angu': 22,\n",
       "         'ngua': 10,\n",
       "         'guag': 10,\n",
       "         'uage': 10,\n",
       "         'age ': 210,\n",
       "         'ge e': 5,\n",
       "         'e en': 165,\n",
       "         ' eng': 118,\n",
       "         'engl': 19,\n",
       "         'ngli': 9,\n",
       "         'glis': 9,\n",
       "         'lish': 52,\n",
       "         'ish ': 181,\n",
       "         'sh c': 6,\n",
       "         'h ch': 4,\n",
       "         ' cha': 396,\n",
       "         'char': 165,\n",
       "         'hara': 72,\n",
       "         'arac': 47,\n",
       "         'ract': 87,\n",
       "         'acte': 54,\n",
       "         'cter': 47,\n",
       "         'ter ': 793,\n",
       "         'er s': 461,\n",
       "         'r se': 89,\n",
       "         ' set': 137,\n",
       "         'set ': 68,\n",
       "         'et e': 21,\n",
       "         't en': 62,\n",
       "         ' enc': 57,\n",
       "         'enco': 53,\n",
       "         'ncod': 1,\n",
       "         'codi': 1,\n",
       "         'odin': 3,\n",
       "         'ding': 284,\n",
       "         'ng u': 85,\n",
       "         'g ut': 1,\n",
       "         ' utf': 1,\n",
       "         'utf ': 1,\n",
       "         'tf p': 1,\n",
       "         'f pr': 47,\n",
       "         'prod': 37,\n",
       "         'rodu': 66,\n",
       "         'oduc': 66,\n",
       "         'duce': 72,\n",
       "         'uced': 37,\n",
       "         'ced ': 138,\n",
       "         'd by': 232,\n",
       "         'by a': 84,\n",
       "         'y an': 515,\n",
       "         ' an ': 465,\n",
       "         'an a': 282,\n",
       "         'n an': 597,\n",
       "         ' ano': 114,\n",
       "         'anon': 2,\n",
       "         'nony': 2,\n",
       "         'onym': 2,\n",
       "         'nymo': 2,\n",
       "         'ymou': 19,\n",
       "         'mous': 7,\n",
       "         'ous ': 228,\n",
       "         'us v': 4,\n",
       "         's vo': 10,\n",
       "         ' vol': 22,\n",
       "         'volu': 25,\n",
       "         'olun': 18,\n",
       "         'lunt': 20,\n",
       "         'unte': 42,\n",
       "         'ntee': 12,\n",
       "         'teer': 7,\n",
       "         'eer ': 9,\n",
       "         'er a': 787,\n",
       "         'r an': 503,\n",
       "         'nd d': 133,\n",
       "         'd da': 17,\n",
       "         ' dav': 1,\n",
       "         'davi': 1,\n",
       "         'avid': 1,\n",
       "         'vid ': 1,\n",
       "         'id w': 19,\n",
       "         ' wid': 10,\n",
       "         'widg': 1,\n",
       "         'idge': 19,\n",
       "         'dger': 1,\n",
       "         'ger ': 131,\n",
       "         'er  ': 1,\n",
       "         'r  s': 1,\n",
       "         '  st': 2,\n",
       "         'star': 20,\n",
       "         'tart': 19,\n",
       "         'art ': 132,\n",
       "         'rt o': 161,\n",
       "         't of': 736,\n",
       "         'ok e': 6,\n",
       "         'k em': 6,\n",
       "         'ma  ': 2,\n",
       "         'a  e': 1,\n",
       "         '  em': 1,\n",
       "         'en c': 49,\n",
       "         'n co': 158,\n",
       "         ' con': 946,\n",
       "         'cont': 160,\n",
       "         'onte': 22,\n",
       "         'nten': 85,\n",
       "         'tent': 154,\n",
       "         'ents': 116,\n",
       "         'nts ': 158,\n",
       "         'ts v': 8,\n",
       "         'olum': 7,\n",
       "         'lume': 6,\n",
       "         'ume ': 18,\n",
       "         'me i': 171,\n",
       "         'e i.': 1,\n",
       "         ' i. ': 4,\n",
       "         'i. c': 37,\n",
       "         '. ch': 170,\n",
       "         'chap': 113,\n",
       "         'hapt': 112,\n",
       "         'apte': 112,\n",
       "         'pter': 112,\n",
       "         'er i': 407,\n",
       "         'r i.': 3,\n",
       "         'r ii': 12,\n",
       "         ' ii.': 4,\n",
       "         'ii. ': 26,\n",
       "         ' iii': 8,\n",
       "         'iii.': 13,\n",
       "         'r iv': 6,\n",
       "         ' iv.': 3,\n",
       "         'iv. ': 6,\n",
       "         'v. c': 12,\n",
       "         'er v': 94,\n",
       "         'r v.': 3,\n",
       "         ' v. ': 3,\n",
       "         'r vi': 60,\n",
       "         ' vi.': 3,\n",
       "         'vi. ': 6,\n",
       "         ' vii': 12,\n",
       "         'vii.': 6,\n",
       "         'viii': 12,\n",
       "         'r ix': 6,\n",
       "         ' ix.': 3,\n",
       "         'ix. ': 5,\n",
       "         'x. c': 6,\n",
       "         'er x': 56,\n",
       "         'r x.': 3,\n",
       "         ' x. ': 3,\n",
       "         'r xi': 26,\n",
       "         ' xi.': 3,\n",
       "         'xi. ': 3,\n",
       "         ' xii': 12,\n",
       "         'xii.': 3,\n",
       "         'xiii': 6,\n",
       "         ' xiv': 6,\n",
       "         'xiv.': 3,\n",
       "         'r xv': 24,\n",
       "         ' xv.': 3,\n",
       "         'xv. ': 3,\n",
       "         ' xvi': 18,\n",
       "         'xvi.': 3,\n",
       "         'xvii': 12,\n",
       "         'i. v': 2,\n",
       "         '. vo': 7,\n",
       "         'e ii': 4,\n",
       "         ' xix': 2,\n",
       "         'xix.': 1,\n",
       "         'x. v': 1,\n",
       "         'e i ': 306,\n",
       "         ' i c': 267,\n",
       "         'i ch': 6,\n",
       "         'r i ': 115,\n",
       "         ' i e': 23,\n",
       "         'i em': 7,\n",
       "         'ma w': 134,\n",
       "         'a wo': 91,\n",
       "         ' woo': 323,\n",
       "         'wood': 323,\n",
       "         'oodh': 332,\n",
       "         'odho': 318,\n",
       "         'dhou': 318,\n",
       "         'hous': 457,\n",
       "         'ouse': 440,\n",
       "         'se h': 104,\n",
       "         'e ha': 1036,\n",
       "         ' han': 135,\n",
       "         'hand': 144,\n",
       "         'ands': 92,\n",
       "         'ndso': 52,\n",
       "         'dsom': 46,\n",
       "         'some': 523,\n",
       "         'ome ': 626,\n",
       "         'me c': 47,\n",
       "         'e cl': 37,\n",
       "         ' cle': 67,\n",
       "         'clev': 32,\n",
       "         'leve': 39,\n",
       "         'ver ': 889,\n",
       "         'nd r': 107,\n",
       "         'd ri': 7,\n",
       "         ' ric': 34,\n",
       "         'rich': 35,\n",
       "         'ich ': 578,\n",
       "         'ch w': 78,\n",
       "         'h wi': 23,\n",
       "         'h a ': 357,\n",
       "         ' a c': 241,\n",
       "         'a co': 189,\n",
       "         ' com': 868,\n",
       "         'comf': 127,\n",
       "         'omfo': 127,\n",
       "         'mfor': 128,\n",
       "         'fort': 300,\n",
       "         'orta': 87,\n",
       "         'rtab': 51,\n",
       "         'tabl': 166,\n",
       "         'able': 593,\n",
       "         'ble ': 707,\n",
       "         'le h': 88,\n",
       "         'e ho': 242,\n",
       "         ' hom': 137,\n",
       "         'home': 138,\n",
       "         'me a': 213,\n",
       "         'nd h': 579,\n",
       "         'd ha': 537,\n",
       "         ' hap': 281,\n",
       "         'happ': 303,\n",
       "         'appy': 144,\n",
       "         'ppy ': 124,\n",
       "         'py d': 3,\n",
       "         'y di': 117,\n",
       "         ' dis': 479,\n",
       "         'disp': 106,\n",
       "         'ispo': 53,\n",
       "         'spos': 57,\n",
       "         'posi': 78,\n",
       "         'osit': 90,\n",
       "         'siti': 63,\n",
       "         'itio': 91,\n",
       "         'ion ': 1334,\n",
       "         'on s': 149,\n",
       "         'n se': 80,\n",
       "         ' see': 571,\n",
       "         'seem': 215,\n",
       "         'eeme': 171,\n",
       "         'emed': 151,\n",
       "         'med ': 258,\n",
       "         'ed t': 1149,\n",
       "         'd to': 1003,\n",
       "         'to u': 47,\n",
       "         'o un': 40,\n",
       "         'ite ': 403,\n",
       "         'te s': 57,\n",
       "         'e so': 378,\n",
       "         ' som': 436,\n",
       "         'me o': 144,\n",
       "         'he b': 307,\n",
       "         'e be': 598,\n",
       "         ' bes': 105,\n",
       "         'best': 90,\n",
       "         'est ': 396,\n",
       "         'st b': 244,\n",
       "         't bl': 14,\n",
       "         ' ble': 31,\n",
       "         'bles': 49,\n",
       "         'less': 178,\n",
       "         'essi': 154,\n",
       "         'ssin': 93,\n",
       "         'ings': 268,\n",
       "         'ngs ': 228,\n",
       "         'gs o': 28,\n",
       "         'f ex': 26,\n",
       "         ' exi': 11,\n",
       "         'exis': 12,\n",
       "         'xist': 12,\n",
       "         'iste': 128,\n",
       "         'tenc': 31,\n",
       "         'ence': 389,\n",
       "         'nce ': 810,\n",
       "         'ce a': 200,\n",
       "         ' had': 1616,\n",
       "         'had ': 1619,\n",
       "         'ad l': 38,\n",
       "         'd li': 65,\n",
       "         ' liv': 84,\n",
       "         'live': 78,\n",
       "         'ived': 124,\n",
       "         'ved ': 340,\n",
       "         'ed n': 111,\n",
       "         'd ne': 119,\n",
       "         ' nea': 78,\n",
       "         'near': 72,\n",
       "         'earl': 75,\n",
       "         'arly': 125,\n",
       "         'rly ': 171,\n",
       "         'ly t': 308,\n",
       "         'y tw': 15,\n",
       "         ' twe': 25,\n",
       "         'twen': 31,\n",
       "         'went': 77,\n",
       "         'enty': 35,\n",
       "         'ntyo': 1,\n",
       "         'tyon': 1,\n",
       "         'ne y': 23,\n",
       "         'e ye': 44,\n",
       "         ' yea': 85,\n",
       "         'year': 86,\n",
       "         'ears': 104,\n",
       "         'ars ': 107,\n",
       "         'rs i': 32,\n",
       "         's in': 402,\n",
       "         'ld w': 68,\n",
       "         'th v': 8,\n",
       "         'h ve': 19,\n",
       "         ' ver': 1188,\n",
       "         'very': 1663,\n",
       "         'ery ': 1674,\n",
       "         'ry l': 101,\n",
       "         'y li': 117,\n",
       "         ' lit': 379,\n",
       "         'litt': 364,\n",
       "         'ittl': 365,\n",
       "         'ttle': 420,\n",
       "         'le t': 280,\n",
       "         'to d': 206,\n",
       "         'o di': 62,\n",
       "         'dist': 154,\n",
       "         'istr': 78,\n",
       "         'stre': 79,\n",
       "         'tres': 44,\n",
       "         'ress': 209,\n",
       "         'ess ': 687,\n",
       "         'ss o': 153,\n",
       "         's or': 75,\n",
       "         'or v': 9,\n",
       "         'r ve': 39,\n",
       "         ' vex': 13,\n",
       "         'vex ': 1,\n",
       "         'ex h': 1,\n",
       "         'x he': 4,\n",
       "         ' her': 2929,\n",
       "         'her.': 254,\n",
       "         'r. s': 78,\n",
       "         '. sh': 468,\n",
       "         ' she': 2325,\n",
       "         'she ': 2348,\n",
       "         'e wa': 1008,\n",
       "         ' was': 2393,\n",
       "         'was ': 2379,\n",
       "         'as t': 591,\n",
       "         's th': 751,\n",
       "         'he y': 66,\n",
       "         'youn': 201,\n",
       "         'oung': 198,\n",
       "         'unge': 8,\n",
       "         'nges': 14,\n",
       "         'gest': 30,\n",
       "         'e tw': 68,\n",
       "         ' two': 180,\n",
       "         'two ': 165,\n",
       "         'wo d': 11,\n",
       "         'o da': 28,\n",
       "         ' dau': 69,\n",
       "         'daug': 69,\n",
       "         'augh': 154,\n",
       "         'ught': 543,\n",
       "         'ghte': 144,\n",
       "         'hter': 73,\n",
       "         'ters': 110,\n",
       "         'ers ': 365,\n",
       "         'rs o': 70,\n",
       "         'f a ': 208,\n",
       "         ' a m': 323,\n",
       "         'a mo': 138,\n",
       "         't af': 29,\n",
       "         ' aff': 127,\n",
       "         'affe': 93,\n",
       "         'ffec': 120,\n",
       "         'fect': 247,\n",
       "         'ecti': 228,\n",
       "         'iona': 87,\n",
       "         'onat': 39,\n",
       "         'nate': 70,\n",
       "         'te i': 53,\n",
       "         ' ind': 356,\n",
       "         'indu': 57,\n",
       "         'ndul': 25,\n",
       "         'dulg': 25,\n",
       "         'ulge': 21,\n",
       "         'lgen': 10,\n",
       "         'gent': 109,\n",
       "         'ent ': 955,\n",
       "         'nt f': 72,\n",
       "         't fa': 59,\n",
       "         ' fat': 226,\n",
       "         'fath': 210,\n",
       "         'athe': 407,\n",
       "         'ad i': 78,\n",
       "         'in c': 67,\n",
       "         'cons': 311,\n",
       "         'onse': 76,\n",
       "         'nseq': 35,\n",
       "         'sequ': 40,\n",
       "         'eque': 64,\n",
       "         'quen': 56,\n",
       "         'uenc': 55,\n",
       "         'ce o': 260,\n",
       "         'of h': 715,\n",
       "         'f he': 394,\n",
       "         'r si': 107,\n",
       "         ' sis': 45,\n",
       "         'sist': 108,\n",
       "         'ster': 122,\n",
       "         'rs m': 23,\n",
       "         's ma': 132,\n",
       "         ' mar': 289,\n",
       "         'marr': 177,\n",
       "         'arri': 721,\n",
       "         'rria': 116,\n",
       "         'riag': 116,\n",
       "         'iage': 116,\n",
       "         'ge b': 24,\n",
       "         ' bee': 761,\n",
       "         'been': 760,\n",
       "         'een ': 924,\n",
       "         'en m': 133,\n",
       "         'n mi': 79,\n",
       "         ' mis': 714,\n",
       "         'mist': 51,\n",
       "         'f hi': 285,\n",
       "         ' his': 1150,\n",
       "         'is h': 123,\n",
       "         's ho': 73,\n",
       "         ' hou': 218,\n",
       "         'se f': 54,\n",
       "         'e fr': 158,\n",
       "         ' fro': 571,\n",
       "         'from': 561,\n",
       "         'rom ': 554,\n",
       "         'om a': 94,\n",
       "         'm a ': 54,\n",
       "         ' a v': 229,\n",
       "         'a ve': 207,\n",
       "         'ry e': 53,\n",
       "         'y ea': 25,\n",
       "         ' ear': 87,\n",
       "         'ly p': 74,\n",
       "         'y pe': 45,\n",
       "         ' per': 564,\n",
       "         'peri': 104,\n",
       "         'erio': 165,\n",
       "         'riod': 20,\n",
       "         'iod.': 3,\n",
       "         'od. ': 28,\n",
       "         'd. h': 73,\n",
       "         '. he': 465,\n",
       "         'er m': 266,\n",
       "         'r mo': 67,\n",
       "         ' mot': 96,\n",
       "         'moth': 83,\n",
       "         'er h': 420,\n",
       "         'r ha': 268,\n",
       "         'ad d': 53,\n",
       "         'd di': 72,\n",
       "         ' die': 12,\n",
       "         'died': 8,\n",
       "         'ied ': 372,\n",
       "         ' too': 301,\n",
       "         'too ': 229,\n",
       "         'oo l': 16,\n",
       "         'o lo': 115,\n",
       "         ' lon': 265,\n",
       "         'long': 252,\n",
       "         'ong ': 283,\n",
       "         'ng a': 729,\n",
       "         'g ag': 24,\n",
       "         ' ago': 34,\n",
       "         'ago ': 20,\n",
       "         'go f': 3,\n",
       "         'o fo': 60,\n",
       "         'or h': 339,\n",
       "         'r he': 339,\n",
       "         'r to': 391,\n",
       "         'to h': 737,\n",
       "         'o ha': 366,\n",
       "         've m': 129,\n",
       "         'e mo': 309,\n",
       "         ' mor': 619,\n",
       "         'more': 475,\n",
       "         're t': 476,\n",
       "         'e th': 1355,\n",
       "         ' tha': 2278,\n",
       "         'than': 492,\n",
       "         'han ': 420,\n",
       "         'an i': 221,\n",
       "         'n in': 300,\n",
       "         'indi': 94,\n",
       "         'ndis': 17,\n",
       "         'isti': 57,\n",
       "         'stin': 113,\n",
       "         'tinc': 31,\n",
       "         'inct': 31,\n",
       "         'nct ': 9,\n",
       "         'ct r': 9,\n",
       "         ' rem': 173,\n",
       "         'reme': 156,\n",
       "         'emem': 66,\n",
       "         'memb': 66,\n",
       "         'embr': 14,\n",
       "         'mbra': 14,\n",
       "         'bran': 15,\n",
       "         'ranc': 94,\n",
       "         'ance': 508,\n",
       "         'er c': 192,\n",
       "         'r ca': 48,\n",
       "         ' car': 217,\n",
       "         'care': 87,\n",
       "         'ares': 35,\n",
       "         'esse': 120,\n",
       "         'sses': 43,\n",
       "         'ses ': 139,\n",
       "         'd he': 713,\n",
       "         'r pl': 42,\n",
       "         ' pla': 248,\n",
       "         'plac': 138,\n",
       "         'lace': 141,\n",
       "         'ace ': 140,\n",
       "         'ce h': 65,\n",
       "         'ad b': 379,\n",
       "         'en s': 209,\n",
       "         'n su': 89,\n",
       "         ' sup': 249,\n",
       "         'supp': 176,\n",
       "         'uppl': 22,\n",
       "         'ppli': 19,\n",
       "         'plie': 97,\n",
       "         'lied': 97,\n",
       "         'an e': 144,\n",
       "         'n ex': 70,\n",
       "         ' exc': 214,\n",
       "         'exce': 138,\n",
       "         'xcel': 40,\n",
       "         'cell': 40,\n",
       "         'elle': 57,\n",
       "         'llen': 50,\n",
       "         'lent': 99,\n",
       "         'nt w': 110,\n",
       "         't wo': 220,\n",
       "         ' wom': 153,\n",
       "         'woma': 136,\n",
       "         'oman': 142,\n",
       "         'man ': 334,\n",
       "         'n as': 143,\n",
       "         ' as ': 1439,\n",
       "         'as g': 89,\n",
       "         's go': 92,\n",
       "         ' gov': 12,\n",
       "         'gove': 12,\n",
       "         'over': 267,\n",
       "         'vern': 13,\n",
       "         'erne': 52,\n",
       "         'rnes': 56,\n",
       "         'ness': 498,\n",
       "         'ss w': 249,\n",
       "         ' who': 499,\n",
       "         'who ': 298,\n",
       "         'ho h': 73,\n",
       "         'ad f': 46,\n",
       "         'd fa': 45,\n",
       "         ' fal': 33,\n",
       "         'fall': 27,\n",
       "         'alle': 84,\n",
       "         'len ': 8,\n",
       "         'en l': 33,\n",
       "         'n li': 37,\n",
       "         'le s': 108,\n",
       "         'e sh': 443,\n",
       "         ' sho': 495,\n",
       "         'shor': 78,\n",
       "         'hort': 78,\n",
       "         ...})"
      ]
     },
     "execution_count": 8,
     "metadata": {},
     "output_type": "execute_result"
    }
   ],
   "source": [
    "emma_lm = language_model(emma_text)\n",
    "huck_finn_lm = language_model(huck_finn_text)\n",
    "ct_lm = language_model(ct_yankee_text)\n",
    "temp_text = ngrams(emma_text, n=4)\n",
    "len(temp_text)\n",
    "temp_text"
   ]
  },
  {
   "cell_type": "markdown",
   "id": "14bdae94",
   "metadata": {},
   "source": [
    "### Problem 1.2\n",
    "\n",
    "In this sub-problem, your job is to write a function that takes a language model `lm`, and a text string `text`, and computes the perplexity of the language model on the text. \n",
    "\n",
    "Hints:\n",
    "* Your function can ignore the first three characters of the text. Thus, you can begin predicting the fourth character from the first three.\n",
    "* Either extract the sequence of 4-character substrings, or make a call to `ngrams(text, n=4)` to get a set of 4-grams and their counts on the text.\n",
    "* Compute the logarithm of probability of the text. If you compute the probability, you will get a very tiny number and numerical \"underflow\". \n",
    "* Use the function `lm.log_probability` where `lm` is a instance of the class `language_model`. For example, `emma_lm.log_probability('emma')` will compute the logarithm of the probability that the character \"a\" follows the three characters \"emm\" using the language model computed on Jane Austen's \"Emma\". \n",
    "* Once you have the logarithm of the probability of the entire text, you'll need to scale appropriately and then take the exponential, using `np.exp`.\n",
    "* Work out the formula by \"pencil and paper\" before trying to write the function.\n"
   ]
  },
  {
   "cell_type": "code",
   "execution_count": 9,
   "id": "58c309c2",
   "metadata": {},
   "outputs": [],
   "source": [
    "def compute_perplexity(text, lm):\n",
    "    temp_text = ngrams(text, n=4)\n",
    "    perp = 0\n",
    "    for gram in temp_text:\n",
    "        perp += lm.log_probability(gram) * temp_text[gram]\n",
    "    perp = np.exp(perp * (-1 / len(text)))\n",
    "    return perp# replace with appropriate value"
   ]
  },
  {
   "cell_type": "markdown",
   "id": "d333bf5d",
   "metadata": {},
   "source": [
    "### Problem 1.3 \n",
    "\n",
    "To test your implementation of the perplexity function, evaluate the followign cell. This \n",
    "computes the perplexity of the \"Emma\" language model on all four of the books: \"Emma\", \"Pride and Prejudice\", \"Huckleberry Finn\", and \"Connecticut Yankee\". For this problem, you will be graded on whether or not you get the correct four numbers for each of these perplexities.\n",
    "\n",
    "Just run the following cell, which will evaluate the perplexities and print them out. No need to modify the code."
   ]
  },
  {
   "cell_type": "code",
   "execution_count": 10,
   "id": "4665a606",
   "metadata": {
    "scrolled": true
   },
   "outputs": [
    {
     "name": "stdout",
     "output_type": "stream",
     "text": [
      "Perplexity on Huckleberry Finn: 6.42\n",
      "Perplexity on Connecticut Yankee: 6.18\n",
      "Perplexity on Pride and Prejudice: 5.49\n",
      "Perplexity on Emma: 5.11\n"
     ]
    }
   ],
   "source": [
    "hf_perp = compute_perplexity(huck_finn_text, emma_lm)\n",
    "ct_perp = compute_perplexity(ct_yankee_text, emma_lm)\n",
    "pp_perp = compute_perplexity(pride_and_prejudice_text, emma_lm)\n",
    "em_perp = compute_perplexity(emma_text, emma_lm)\n",
    "\n",
    "print(\"Perplexity on Huckleberry Finn: %.2f\" % hf_perp)\n",
    "print(\"Perplexity on Connecticut Yankee: %.2f\" % ct_perp)\n",
    "print(\"Perplexity on Pride and Prejudice: %.2f\" % pp_perp)\n",
    "print(\"Perplexity on Emma: %.2f\" % em_perp)"
   ]
  },
  {
   "cell_type": "markdown",
   "id": "7d76ba30",
   "metadata": {},
   "source": [
    "### Problem 1.4 \n",
    "\n",
    "Now, interpret your results above. Explain the meaning of perplexity for a character-based language model. Which book has the lowest perpexity? Why is this? Which book has the second smallest perplexity? Does this make sense? Explain. \n",
    "\n"
   ]
  },
  {
   "cell_type": "markdown",
   "id": "a2513538",
   "metadata": {},
   "source": [
    "If the perplexity for the model is $k$, the model predicts on average as if there were $k$ equally likely words to follow.  If a model assigns a high probability to the test set, it means that it is not surprised to see it (it’s not perplexed by it), which means that it has a good understanding of how the language works. *Emma* has the lowest perplexity, because it is the training set of emma_lm model and the model assigns high probability on this book. *Pride and Prejudice* has the second smallest perplexity. It makes sense because these two books written by the same author. Hence, they have the same language style and perfence, and similar themes and contents, which are quite different from the other two books written by Mark Twain.    "
   ]
  },
  {
   "cell_type": "markdown",
   "id": "cb20b8cb",
   "metadata": {},
   "source": [
    "### Problem 1.5\n",
    "\n",
    "Next, mix it up by computing the perplexity of the \"Huckleberry Finn\" language model on each of the four books. Comment on your findings."
   ]
  },
  {
   "cell_type": "code",
   "execution_count": 11,
   "id": "acb4c85b",
   "metadata": {},
   "outputs": [
    {
     "name": "stdout",
     "output_type": "stream",
     "text": [
      "Perplexity on Huckleberry Finn: 5.12\n",
      "Perplexity on Connecticut Yankee: 6.17\n",
      "Perplexity on Pride and Prejudice: 6.46\n",
      "Perplexity on Emma: 6.44\n"
     ]
    }
   ],
   "source": [
    "hf_perp = compute_perplexity(huck_finn_text, huck_finn_lm)\n",
    "ct_perp = compute_perplexity(ct_yankee_text, huck_finn_lm)\n",
    "pp_perp = compute_perplexity(pride_and_prejudice_text, huck_finn_lm)\n",
    "em_perp = compute_perplexity(emma_text, huck_finn_lm)\n",
    "print(\"Perplexity on Huckleberry Finn: %.2f\" % hf_perp)\n",
    "print(\"Perplexity on Connecticut Yankee: %.2f\" % ct_perp)\n",
    "print(\"Perplexity on Pride and Prejudice: %.2f\" % pp_perp)\n",
    "print(\"Perplexity on Emma: %.2f\" % em_perp)"
   ]
  },
  {
   "cell_type": "markdown",
   "id": "90c6d4b6",
   "metadata": {},
   "source": [
    " *Huck Finn* has the lowest perplexity, because it is the training set of huck_finn_lm model and the model assigns high probability on this book. *Conn Yankee* has the second smallest perplexity. It makes sense because these two books written by the same author. Hence, they have the same language style and perfence, and similar themes and contents, which are quite different from the other two books written by Jane Austen.    "
   ]
  },
  {
   "cell_type": "markdown",
   "id": "ef5e9199",
   "metadata": {},
   "source": [
    "### Problem 1.6\n",
    "\n",
    "Finally, in this problem you should explore the choice of the weights assigned to unigrams, bigrams, trigrams, and four-grams. Recall that to set the weights on the language model `lm` you can use a function call like\n",
    "`lm.set_weights([.25, .25, .25, .25])`\n",
    "\n",
    "1. Try to find weights for the \"Emma\" model so that the perplexity of \"Pride and Prejudice\" is as small as possible. What weights do you find? Do these weights make sense to you?\n",
    "\n",
    "\n",
    "2. Try to find weights for the \"Emma\" model so that the perplexity of \"Huckleberry Finn\" is as small as possible. What happens to the perplexity for \"Pride and Prejudice\"? Does this perplexity exceed that of \"Huck Finn\"? How do the weights you find compare to those you found above? Can you explain intuitively why they are different?\n"
   ]
  },
  {
   "cell_type": "markdown",
   "id": "52d5b50a",
   "metadata": {},
   "source": [
    "[your code and markdown here]\n"
   ]
  },
  {
   "cell_type": "code",
   "execution_count": null,
   "id": "3addf55d",
   "metadata": {},
   "outputs": [],
   "source": [
    "total = 0\n",
    "pp_final_perp = 100000\n",
    "while total < 500:\n",
    "    w4 = np.random.uniform(0.9, 1, 1)\n",
    "    w3 = np.random.uniform(0, 1-w4, 1)\n",
    "    w2 = np.random.uniform(0, 1-w4-w3, 1)\n",
    "    w1 =  1-w4-w3-w2\n",
    "    emma_lm = language_model(emma_text)\n",
    "    emma_lm.set_weights([w1, w2, w3, w4])\n",
    "    pp_perp = compute_perplexity(pride_and_prejudice_text, emma_lm)\n",
    "    if pp_final_perp > pp_perp:\n",
    "        pp_final_perp = pp_perp\n",
    "        w1_final = w1\n",
    "        w2_final = w2\n",
    "        w3_final = w3\n",
    "        w4_final = w4\n",
    "    total = total + 1"
   ]
  },
  {
   "cell_type": "code",
   "execution_count": 13,
   "id": "9d0bc0ac",
   "metadata": {},
   "outputs": [
    {
     "name": "stdout",
     "output_type": "stream",
     "text": [
      "Perplexity on Pride and Prejudice: 4.59\n"
     ]
    }
   ],
   "source": [
    "emma_lm = language_model(emma_text)\n",
    "emma_lm.set_weights([w1_final, w2_final, w3_final, w4_final])\n",
    "pp_perp = compute_perplexity(pride_and_prejudice_text, emma_lm)\n",
    "print(\"Perplexity on Pride and Prejudice: %.2f\" % pp_perp)"
   ]
  },
  {
   "cell_type": "markdown",
   "id": "39de747b",
   "metadata": {},
   "source": [
    "The weights is [0.01, 0.01, 0.05, 0.93]. It makes sense because they are written by the same author and they have the same language style and perfence. Hence, more weights on 4-gram or 3-gram can improve the perplexity of Pride and Prejudice."
   ]
  },
  {
   "cell_type": "code",
   "execution_count": null,
   "id": "930ab8db",
   "metadata": {},
   "outputs": [],
   "source": [
    "total = 0\n",
    "pp_final_perp = 100000\n",
    "while total < 500:\n",
    "    w4 = np.random.uniform(0.5, 1, 1)\n",
    "    w3 = np.random.uniform(0, 1-w4, 1)\n",
    "    w2 = np.random.uniform(0, 1-w4-w3, 1)\n",
    "    w1 =  1-w4-w3-w2\n",
    "    emma_lm = language_model(emma_text)\n",
    "    emma_lm.set_weights([w1, w2, w3, w4])\n",
    "    pp_perp = compute_perplexity(huck_finn_text, emma_lm)\n",
    "    if pp_final_perp > pp_perp:\n",
    "        pp_final_perp = pp_perp\n",
    "        w1_final = w1\n",
    "        w2_final = w2\n",
    "        w3_final = w3\n",
    "        w4_final = w4\n",
    "    total = total + 1"
   ]
  },
  {
   "cell_type": "code",
   "execution_count": null,
   "id": "516d5f22",
   "metadata": {},
   "outputs": [
    {
     "name": "stdout",
     "output_type": "stream",
     "text": [
      "Perplexity on Huck Finn: 6.02\n",
      "Perplexity on P&P: 4.69\n",
      "[array([0.01584392]), array([0.06461364]), array([0.15300654]), array([0.7665359])]\n"
     ]
    }
   ],
   "source": [
    "emma_lm = language_model(emma_text)\n",
    "emma_lm.set_weights([w1_final, w2_final, w3_final, w4_final])\n",
    "huck_perp = compute_perplexity(huck_finn_text, emma_lm)\n",
    "print(\"Perplexity on Huck Finn: %.2f\" % huck_perp)\n",
    "pp_perp = compute_perplexity(pride_and_prejudice_text, emma_lm)\n",
    "print(\"Perplexity on P&P: %.2f\" % pp_perp)\n",
    "print([w1_final, w2_final, w3_final, w4_final])"
   ]
  },
  {
   "cell_type": "markdown",
   "id": "5d5cc0a4",
   "metadata": {},
   "source": [
    "The perplexity on P&P increases, but this perplexity doesn't exceed that of \"Huck Finn\". The weights on 4-gram and 3-gram decrease and the weights on unigram and bigram increase. To decrease the perplexity of Emma model on Huck Finn, we should increase the prior probability intuitively because these two books are very different. However, Emma and P&P are written by the same author and they have the same language style and perfence. Hence, more weights on 4-gram or 3-gram can improve the perplexity of Pride and Prejudice."
   ]
  },
  {
   "cell_type": "markdown",
   "id": "1379ceb0",
   "metadata": {},
   "source": [
    "### Problem 1.7 (Extra credit: 2 points)\n",
    "\n",
    "Choose two books from the Gutenberg collection that are by the same author (different from Twain and Austen). Build a language model on one of the books, and test, by evaluating perplexity, on all of the other books, five books in all.  Where does the second book of the new author rank? Do the result make sense? Comment on your findings."
   ]
  },
  {
   "cell_type": "code",
   "execution_count": null,
   "id": "37285172",
   "metadata": {},
   "outputs": [
    {
     "name": "stdout",
     "output_type": "stream",
     "text": [
      "Perplexity on Huckleberry Finn: 6.72\n",
      "Perplexity on Connecticut Yankee: 6.43\n",
      "Perplexity on Pride and Prejudice: 6.26\n",
      "Perplexity on Emma: 6.41\n",
      "Perplexity on King Lear: 6.38\n"
     ]
    }
   ],
   "source": [
    "hamlet_url = 'https://www.gutenberg.org/files/27761/27761-0.txt'\n",
    "hamlet_text_raw = read_url(hamlet_url)\n",
    "hamlet_text = process_text(hamlet_text_raw)\n",
    "\n",
    "king_lear_url = \"https://www.gutenberg.org/files/1532/1532-0.txt\"\n",
    "king_lear_text_raw = read_url(king_lear_url)\n",
    "king_lear_text = process_text(king_lear_text_raw)\n",
    "\n",
    "hamlet_lm = language_model(hamlet_text)\n",
    "king_lear_lm = language_model(king_lear_text)\n",
    "\n",
    "hf_perp = compute_perplexity(huck_finn_text, hamlet_lm)\n",
    "ct_perp = compute_perplexity(ct_yankee_text, hamlet_lm)\n",
    "pp_perp = compute_perplexity(pride_and_prejudice_text, hamlet_lm)\n",
    "em_perp = compute_perplexity(emma_text, hamlet_lm)\n",
    "kl_perp = compute_perplexity(king_lear_text, hamlet_lm)\n",
    "print(\"Perplexity on Huckleberry Finn: %.2f\" % hf_perp)\n",
    "print(\"Perplexity on Connecticut Yankee: %.2f\" % ct_perp)\n",
    "print(\"Perplexity on Pride and Prejudice: %.2f\" % pp_perp)\n",
    "print(\"Perplexity on Emma: %.2f\" % em_perp)\n",
    "print(\"Perplexity on King Lear: %.2f\" % kl_perp)"
   ]
  },
  {
   "cell_type": "markdown",
   "id": "94e11b23",
   "metadata": {},
   "source": [
    "King Lear ranks the second among the five books. The result makes sense because the two books written by Mark Twain rank the last and there is no big gap between the perplexity of the other three books."
   ]
  },
  {
   "cell_type": "markdown",
   "id": "106a9e49",
   "metadata": {},
   "source": [
    "### Problem 2: Word embedding experiments (15 points)\n",
    "\n",
    "In this problem you will run experiments on word embeddings using two different algorithms or configurations: (1) word2vec embeddings trained on the \"text8\" Wikipedia corpus (2) GloVe embeddings pre-trained on a much larger corpus.\n",
    "\n",
    "The text8 data are described here: http://mattmahoney.net/dc/textdata.html. The text8 file is a 100MB excerpt of Wikipedia. This small dataset is sufficient for our exploratory purposes, but note that it is far too small for any real application.\n",
    "In the next few parts of this problem, you will construct word embeddings from the Wikipedia data. "
   ]
  },
  {
   "cell_type": "markdown",
   "id": "c83a7ec5",
   "metadata": {},
   "source": [
    "`word2Vec` is a popular word embedding method. The following code will construct 100 dimensional embeddings on the text8 data."
   ]
  },
  {
   "cell_type": "code",
   "execution_count": 24,
   "id": "6999ed96",
   "metadata": {
    "scrolled": false
   },
   "outputs": [
    {
     "name": "stderr",
     "output_type": "stream",
     "text": [
      "2021-11-11 23:40:40,912 : INFO : collecting all words and their counts\n",
      "2021-11-11 23:40:41,115 : INFO : PROGRESS: at sentence #0, processed 0 words, keeping 0 word types\n",
      "2021-11-11 23:40:53,912 : INFO : collected 253854 word types from a corpus of 17005207 raw words and 1701 sentences\n",
      "2021-11-11 23:40:53,913 : INFO : Creating a fresh vocabulary\n",
      "2021-11-11 23:40:54,245 : INFO : Word2Vec lifecycle event {'msg': 'effective_min_count=10 retains 47134 unique words (18.56736549355141%% of original 253854, drops 206720)', 'datetime': '2021-11-11T23:40:54.245988', 'gensim': '4.1.2', 'python': '3.8.8 (default, Apr 13 2021, 15:08:03) [MSC v.1916 64 bit (AMD64)]', 'platform': 'Windows-10-10.0.22494-SP0', 'event': 'prepare_vocab'}\n",
      "2021-11-11 23:40:54,246 : INFO : Word2Vec lifecycle event {'msg': 'effective_min_count=10 leaves 16561031 word corpus (97.38800004022298%% of original 17005207, drops 444176)', 'datetime': '2021-11-11T23:40:54.246948', 'gensim': '4.1.2', 'python': '3.8.8 (default, Apr 13 2021, 15:08:03) [MSC v.1916 64 bit (AMD64)]', 'platform': 'Windows-10-10.0.22494-SP0', 'event': 'prepare_vocab'}\n",
      "2021-11-11 23:40:54,630 : INFO : deleting the raw counts dictionary of 253854 items\n",
      "2021-11-11 23:40:54,640 : INFO : sample=0.001 downsamples 38 most-common words\n",
      "2021-11-11 23:40:54,642 : INFO : Word2Vec lifecycle event {'msg': 'downsampling leaves estimated 12333563.370024087 word corpus (74.5%% of prior 16561031)', 'datetime': '2021-11-11T23:40:54.642903', 'gensim': '4.1.2', 'python': '3.8.8 (default, Apr 13 2021, 15:08:03) [MSC v.1916 64 bit (AMD64)]', 'platform': 'Windows-10-10.0.22494-SP0', 'event': 'prepare_vocab'}\n",
      "2021-11-11 23:40:55,253 : INFO : estimated required memory for 47134 words and 100 dimensions: 61274200 bytes\n",
      "2021-11-11 23:40:55,254 : INFO : resetting layer weights\n",
      "2021-11-11 23:40:55,288 : INFO : Word2Vec lifecycle event {'update': False, 'trim_rule': 'None', 'datetime': '2021-11-11T23:40:55.288168', 'gensim': '4.1.2', 'python': '3.8.8 (default, Apr 13 2021, 15:08:03) [MSC v.1916 64 bit (AMD64)]', 'platform': 'Windows-10-10.0.22494-SP0', 'event': 'build_vocab'}\n",
      "2021-11-11 23:40:55,289 : INFO : Word2Vec lifecycle event {'msg': 'training model with 3 workers on 47134 vocabulary and 100 features, using sg=0 hs=0 sample=0.001 negative=5 window=10 shrink_windows=True', 'datetime': '2021-11-11T23:40:55.289165', 'gensim': '4.1.2', 'python': '3.8.8 (default, Apr 13 2021, 15:08:03) [MSC v.1916 64 bit (AMD64)]', 'platform': 'Windows-10-10.0.22494-SP0', 'event': 'train'}\n",
      "2021-11-11 23:40:56,297 : INFO : EPOCH 1 - PROGRESS: at 4.70% examples, 578602 words/s, in_qsize 5, out_qsize 0\n",
      "2021-11-11 23:40:57,308 : INFO : EPOCH 1 - PROGRESS: at 10.05% examples, 610742 words/s, in_qsize 6, out_qsize 0\n",
      "2021-11-11 23:40:58,311 : INFO : EPOCH 1 - PROGRESS: at 14.99% examples, 609108 words/s, in_qsize 5, out_qsize 0\n",
      "2021-11-11 23:40:59,311 : INFO : EPOCH 1 - PROGRESS: at 19.87% examples, 607138 words/s, in_qsize 5, out_qsize 0\n",
      "2021-11-11 23:41:00,320 : INFO : EPOCH 1 - PROGRESS: at 24.69% examples, 604457 words/s, in_qsize 6, out_qsize 0\n",
      "2021-11-11 23:41:01,328 : INFO : EPOCH 1 - PROGRESS: at 29.69% examples, 607340 words/s, in_qsize 6, out_qsize 1\n",
      "2021-11-11 23:41:02,331 : INFO : EPOCH 1 - PROGRESS: at 34.74% examples, 610268 words/s, in_qsize 5, out_qsize 0\n",
      "2021-11-11 23:41:03,347 : INFO : EPOCH 1 - PROGRESS: at 39.56% examples, 607533 words/s, in_qsize 5, out_qsize 0\n",
      "2021-11-11 23:41:04,362 : INFO : EPOCH 1 - PROGRESS: at 44.33% examples, 604510 words/s, in_qsize 6, out_qsize 0\n",
      "2021-11-11 23:41:05,370 : INFO : EPOCH 1 - PROGRESS: at 49.85% examples, 611997 words/s, in_qsize 5, out_qsize 1\n",
      "2021-11-11 23:41:06,374 : INFO : EPOCH 1 - PROGRESS: at 55.56% examples, 620413 words/s, in_qsize 5, out_qsize 0\n",
      "2021-11-11 23:41:07,374 : INFO : EPOCH 1 - PROGRESS: at 61.43% examples, 629227 words/s, in_qsize 5, out_qsize 0\n",
      "2021-11-11 23:41:08,385 : INFO : EPOCH 1 - PROGRESS: at 66.84% examples, 631608 words/s, in_qsize 6, out_qsize 0\n",
      "2021-11-11 23:41:09,394 : INFO : EPOCH 1 - PROGRESS: at 72.25% examples, 634047 words/s, in_qsize 6, out_qsize 0\n",
      "2021-11-11 23:41:10,404 : INFO : EPOCH 1 - PROGRESS: at 77.78% examples, 635718 words/s, in_qsize 6, out_qsize 0\n",
      "2021-11-11 23:41:11,405 : INFO : EPOCH 1 - PROGRESS: at 84.01% examples, 643847 words/s, in_qsize 5, out_qsize 0\n",
      "2021-11-11 23:41:12,413 : INFO : EPOCH 1 - PROGRESS: at 89.07% examples, 642292 words/s, in_qsize 3, out_qsize 0\n",
      "2021-11-11 23:41:13,418 : INFO : EPOCH 1 - PROGRESS: at 93.65% examples, 637684 words/s, in_qsize 4, out_qsize 0\n",
      "2021-11-11 23:41:14,425 : INFO : EPOCH 1 - PROGRESS: at 99.24% examples, 639927 words/s, in_qsize 5, out_qsize 0\n",
      "2021-11-11 23:41:14,573 : INFO : worker thread finished; awaiting finish of 2 more threads\n",
      "2021-11-11 23:41:14,577 : INFO : worker thread finished; awaiting finish of 1 more threads\n",
      "2021-11-11 23:41:14,587 : INFO : worker thread finished; awaiting finish of 0 more threads\n",
      "2021-11-11 23:41:14,589 : INFO : EPOCH - 1 : training on 17005207 raw words (12334407 effective words) took 19.3s, 639302 effective words/s\n",
      "2021-11-11 23:41:15,597 : INFO : EPOCH 2 - PROGRESS: at 4.35% examples, 535422 words/s, in_qsize 6, out_qsize 0\n",
      "2021-11-11 23:41:16,603 : INFO : EPOCH 2 - PROGRESS: at 9.52% examples, 579799 words/s, in_qsize 4, out_qsize 0\n",
      "2021-11-11 23:41:17,607 : INFO : EPOCH 2 - PROGRESS: at 14.99% examples, 609430 words/s, in_qsize 4, out_qsize 0\n",
      "2021-11-11 23:41:18,626 : INFO : EPOCH 2 - PROGRESS: at 20.69% examples, 629945 words/s, in_qsize 1, out_qsize 1\n",
      "2021-11-11 23:41:19,647 : INFO : EPOCH 2 - PROGRESS: at 25.87% examples, 630302 words/s, in_qsize 5, out_qsize 0\n",
      "2021-11-11 23:41:20,654 : INFO : EPOCH 2 - PROGRESS: at 31.45% examples, 640581 words/s, in_qsize 6, out_qsize 0\n",
      "2021-11-11 23:41:21,655 : INFO : EPOCH 2 - PROGRESS: at 37.33% examples, 653424 words/s, in_qsize 5, out_qsize 1\n",
      "2021-11-11 23:41:22,656 : INFO : EPOCH 2 - PROGRESS: at 42.97% examples, 659146 words/s, in_qsize 6, out_qsize 0\n",
      "2021-11-11 23:41:23,666 : INFO : EPOCH 2 - PROGRESS: at 48.68% examples, 663474 words/s, in_qsize 5, out_qsize 0\n",
      "2021-11-11 23:41:24,667 : INFO : EPOCH 2 - PROGRESS: at 54.56% examples, 669991 words/s, in_qsize 5, out_qsize 0\n",
      "2021-11-11 23:41:25,687 : INFO : EPOCH 2 - PROGRESS: at 60.02% examples, 669396 words/s, in_qsize 5, out_qsize 1\n",
      "2021-11-11 23:41:26,690 : INFO : EPOCH 2 - PROGRESS: at 65.20% examples, 666722 words/s, in_qsize 5, out_qsize 0\n",
      "2021-11-11 23:41:27,732 : INFO : EPOCH 2 - PROGRESS: at 68.55% examples, 645433 words/s, in_qsize 0, out_qsize 0\n",
      "2021-11-11 23:41:28,739 : INFO : EPOCH 2 - PROGRESS: at 71.90% examples, 628825 words/s, in_qsize 1, out_qsize 0\n",
      "2021-11-11 23:41:29,754 : INFO : EPOCH 2 - PROGRESS: at 77.13% examples, 628443 words/s, in_qsize 2, out_qsize 0\n",
      "2021-11-11 23:41:30,757 : INFO : EPOCH 2 - PROGRESS: at 81.54% examples, 622854 words/s, in_qsize 5, out_qsize 0\n",
      "2021-11-11 23:41:31,771 : INFO : EPOCH 2 - PROGRESS: at 86.18% examples, 619386 words/s, in_qsize 6, out_qsize 0\n",
      "2021-11-11 23:41:32,783 : INFO : EPOCH 2 - PROGRESS: at 91.95% examples, 623848 words/s, in_qsize 5, out_qsize 0\n",
      "2021-11-11 23:41:33,791 : INFO : EPOCH 2 - PROGRESS: at 96.59% examples, 620803 words/s, in_qsize 0, out_qsize 0\n",
      "2021-11-11 23:41:34,550 : INFO : worker thread finished; awaiting finish of 2 more threads\n",
      "2021-11-11 23:41:34,551 : INFO : worker thread finished; awaiting finish of 1 more threads\n",
      "2021-11-11 23:41:34,554 : INFO : worker thread finished; awaiting finish of 0 more threads\n",
      "2021-11-11 23:41:34,556 : INFO : EPOCH - 2 : training on 17005207 raw words (12334811 effective words) took 20.0s, 617865 effective words/s\n",
      "2021-11-11 23:41:35,573 : INFO : EPOCH 3 - PROGRESS: at 4.82% examples, 588017 words/s, in_qsize 6, out_qsize 0\n",
      "2021-11-11 23:41:36,577 : INFO : EPOCH 3 - PROGRESS: at 10.58% examples, 642059 words/s, in_qsize 6, out_qsize 0\n",
      "2021-11-11 23:41:37,580 : INFO : EPOCH 3 - PROGRESS: at 16.40% examples, 666202 words/s, in_qsize 6, out_qsize 0\n",
      "2021-11-11 23:41:38,594 : INFO : EPOCH 3 - PROGRESS: at 21.22% examples, 646117 words/s, in_qsize 5, out_qsize 0\n",
      "2021-11-11 23:41:39,607 : INFO : EPOCH 3 - PROGRESS: at 26.16% examples, 638282 words/s, in_qsize 5, out_qsize 0\n",
      "2021-11-11 23:41:40,608 : INFO : EPOCH 3 - PROGRESS: at 30.92% examples, 631036 words/s, in_qsize 5, out_qsize 0\n",
      "2021-11-11 23:41:41,612 : INFO : EPOCH 3 - PROGRESS: at 36.21% examples, 634875 words/s, in_qsize 5, out_qsize 0\n",
      "2021-11-11 23:41:42,618 : INFO : EPOCH 3 - PROGRESS: at 42.33% examples, 649408 words/s, in_qsize 6, out_qsize 0\n",
      "2021-11-11 23:41:43,624 : INFO : EPOCH 3 - PROGRESS: at 47.85% examples, 652888 words/s, in_qsize 5, out_qsize 0\n",
      "2021-11-11 23:41:44,628 : INFO : EPOCH 3 - PROGRESS: at 52.97% examples, 650680 words/s, in_qsize 4, out_qsize 1\n",
      "2021-11-11 23:41:45,628 : INFO : EPOCH 3 - PROGRESS: at 58.61% examples, 655043 words/s, in_qsize 6, out_qsize 0\n",
      "2021-11-11 23:41:46,644 : INFO : EPOCH 3 - PROGRESS: at 64.67% examples, 661873 words/s, in_qsize 5, out_qsize 1\n",
      "2021-11-11 23:41:47,652 : INFO : EPOCH 3 - PROGRESS: at 69.90% examples, 660434 words/s, in_qsize 5, out_qsize 0\n",
      "2021-11-11 23:41:48,658 : INFO : EPOCH 3 - PROGRESS: at 75.49% examples, 661865 words/s, in_qsize 4, out_qsize 2\n",
      "2021-11-11 23:41:49,667 : INFO : EPOCH 3 - PROGRESS: at 81.48% examples, 665880 words/s, in_qsize 6, out_qsize 0\n",
      "2021-11-11 23:41:50,681 : INFO : EPOCH 3 - PROGRESS: at 87.48% examples, 669796 words/s, in_qsize 6, out_qsize 0\n",
      "2021-11-11 23:41:51,684 : INFO : EPOCH 3 - PROGRESS: at 93.65% examples, 674834 words/s, in_qsize 6, out_qsize 0\n",
      "2021-11-11 23:41:52,689 : INFO : EPOCH 3 - PROGRESS: at 99.53% examples, 677291 words/s, in_qsize 6, out_qsize 0\n",
      "2021-11-11 23:41:52,738 : INFO : worker thread finished; awaiting finish of 2 more threads\n",
      "2021-11-11 23:41:52,744 : INFO : worker thread finished; awaiting finish of 1 more threads\n",
      "2021-11-11 23:41:52,747 : INFO : worker thread finished; awaiting finish of 0 more threads\n",
      "2021-11-11 23:41:52,749 : INFO : EPOCH - 3 : training on 17005207 raw words (12333211 effective words) took 18.2s, 678092 effective words/s\n",
      "2021-11-11 23:41:53,768 : INFO : EPOCH 4 - PROGRESS: at 3.53% examples, 431206 words/s, in_qsize 1, out_qsize 1\n",
      "2021-11-11 23:41:54,770 : INFO : EPOCH 4 - PROGRESS: at 9.52% examples, 578377 words/s, in_qsize 5, out_qsize 0\n",
      "2021-11-11 23:41:55,773 : INFO : EPOCH 4 - PROGRESS: at 15.23% examples, 617650 words/s, in_qsize 5, out_qsize 0\n",
      "2021-11-11 23:41:56,782 : INFO : EPOCH 4 - PROGRESS: at 20.81% examples, 634316 words/s, in_qsize 2, out_qsize 0\n",
      "2021-11-11 23:41:57,797 : INFO : EPOCH 4 - PROGRESS: at 26.87% examples, 656379 words/s, in_qsize 5, out_qsize 0\n",
      "2021-11-11 23:41:58,807 : INFO : EPOCH 4 - PROGRESS: at 32.92% examples, 671874 words/s, in_qsize 5, out_qsize 0\n",
      "2021-11-11 23:41:59,829 : INFO : EPOCH 4 - PROGRESS: at 38.74% examples, 676988 words/s, in_qsize 5, out_qsize 0\n",
      "2021-11-11 23:42:00,844 : INFO : EPOCH 4 - PROGRESS: at 43.03% examples, 657830 words/s, in_qsize 0, out_qsize 0\n",
      "2021-11-11 23:42:01,849 : INFO : EPOCH 4 - PROGRESS: at 47.44% examples, 645171 words/s, in_qsize 1, out_qsize 0\n",
      "2021-11-11 23:42:02,851 : INFO : EPOCH 4 - PROGRESS: at 53.44% examples, 654547 words/s, in_qsize 5, out_qsize 0\n",
      "2021-11-11 23:42:03,864 : INFO : EPOCH 4 - PROGRESS: at 59.55% examples, 663094 words/s, in_qsize 6, out_qsize 0\n",
      "2021-11-11 23:42:04,877 : INFO : EPOCH 4 - PROGRESS: at 65.37% examples, 667033 words/s, in_qsize 5, out_qsize 0\n",
      "2021-11-11 23:42:05,883 : INFO : EPOCH 4 - PROGRESS: at 70.72% examples, 666370 words/s, in_qsize 5, out_qsize 0\n",
      "2021-11-11 23:42:06,886 : INFO : EPOCH 4 - PROGRESS: at 75.84% examples, 663215 words/s, in_qsize 0, out_qsize 0\n",
      "2021-11-11 23:42:07,892 : INFO : EPOCH 4 - PROGRESS: at 79.89% examples, 651672 words/s, in_qsize 0, out_qsize 0\n",
      "2021-11-11 23:42:08,902 : INFO : EPOCH 4 - PROGRESS: at 85.60% examples, 654401 words/s, in_qsize 5, out_qsize 0\n",
      "2021-11-11 23:42:09,905 : INFO : EPOCH 4 - PROGRESS: at 90.65% examples, 652532 words/s, in_qsize 5, out_qsize 0\n",
      "2021-11-11 23:42:10,914 : INFO : EPOCH 4 - PROGRESS: at 96.18% examples, 653641 words/s, in_qsize 0, out_qsize 0\n",
      "2021-11-11 23:42:11,661 : INFO : worker thread finished; awaiting finish of 2 more threads\n",
      "2021-11-11 23:42:11,666 : INFO : worker thread finished; awaiting finish of 1 more threads\n",
      "2021-11-11 23:42:11,672 : INFO : worker thread finished; awaiting finish of 0 more threads\n",
      "2021-11-11 23:42:11,674 : INFO : EPOCH - 4 : training on 17005207 raw words (12334424 effective words) took 18.9s, 651960 effective words/s\n",
      "2021-11-11 23:42:12,688 : INFO : EPOCH 5 - PROGRESS: at 4.94% examples, 604001 words/s, in_qsize 6, out_qsize 0\n",
      "2021-11-11 23:42:13,703 : INFO : EPOCH 5 - PROGRESS: at 10.29% examples, 621740 words/s, in_qsize 5, out_qsize 0\n",
      "2021-11-11 23:42:14,732 : INFO : EPOCH 5 - PROGRESS: at 15.70% examples, 629906 words/s, in_qsize 0, out_qsize 0\n",
      "2021-11-11 23:42:15,840 : INFO : EPOCH 5 - PROGRESS: at 17.81% examples, 525186 words/s, in_qsize 0, out_qsize 0\n",
      "2021-11-11 23:42:16,854 : INFO : EPOCH 5 - PROGRESS: at 19.81% examples, 469710 words/s, in_qsize 0, out_qsize 0\n",
      "2021-11-11 23:42:17,910 : INFO : EPOCH 5 - PROGRESS: at 23.34% examples, 460624 words/s, in_qsize 1, out_qsize 0\n",
      "2021-11-11 23:42:18,910 : INFO : EPOCH 5 - PROGRESS: at 28.57% examples, 487138 words/s, in_qsize 5, out_qsize 0\n",
      "2021-11-11 23:42:19,940 : INFO : EPOCH 5 - PROGRESS: at 32.57% examples, 486833 words/s, in_qsize 0, out_qsize 0\n",
      "2021-11-11 23:42:20,952 : INFO : EPOCH 5 - PROGRESS: at 37.51% examples, 500035 words/s, in_qsize 0, out_qsize 0\n",
      "2021-11-11 23:42:21,956 : INFO : EPOCH 5 - PROGRESS: at 39.51% examples, 475204 words/s, in_qsize 0, out_qsize 0\n",
      "2021-11-11 23:42:22,968 : INFO : EPOCH 5 - PROGRESS: at 43.21% examples, 473287 words/s, in_qsize 2, out_qsize 0\n",
      "2021-11-11 23:42:23,985 : INFO : EPOCH 5 - PROGRESS: at 48.38% examples, 486177 words/s, in_qsize 5, out_qsize 0\n",
      "2021-11-11 23:42:24,989 : INFO : EPOCH 5 - PROGRESS: at 53.20% examples, 494357 words/s, in_qsize 5, out_qsize 0\n",
      "2021-11-11 23:42:25,999 : INFO : EPOCH 5 - PROGRESS: at 58.20% examples, 502781 words/s, in_qsize 5, out_qsize 0\n",
      "2021-11-11 23:42:27,004 : INFO : EPOCH 5 - PROGRESS: at 63.73% examples, 514469 words/s, in_qsize 6, out_qsize 0\n",
      "2021-11-11 23:42:28,009 : INFO : EPOCH 5 - PROGRESS: at 68.25% examples, 517056 words/s, in_qsize 5, out_qsize 0\n",
      "2021-11-11 23:42:29,010 : INFO : EPOCH 5 - PROGRESS: at 73.43% examples, 524261 words/s, in_qsize 4, out_qsize 0\n",
      "2021-11-11 23:42:30,012 : INFO : EPOCH 5 - PROGRESS: at 79.37% examples, 534549 words/s, in_qsize 6, out_qsize 0\n",
      "2021-11-11 23:42:31,021 : INFO : EPOCH 5 - PROGRESS: at 85.42% examples, 545180 words/s, in_qsize 6, out_qsize 0\n",
      "2021-11-11 23:42:32,027 : INFO : EPOCH 5 - PROGRESS: at 91.42% examples, 554499 words/s, in_qsize 2, out_qsize 0\n",
      "2021-11-11 23:42:33,039 : INFO : EPOCH 5 - PROGRESS: at 97.53% examples, 563272 words/s, in_qsize 5, out_qsize 1\n",
      "2021-11-11 23:42:33,409 : INFO : worker thread finished; awaiting finish of 2 more threads\n",
      "2021-11-11 23:42:33,419 : INFO : worker thread finished; awaiting finish of 1 more threads\n",
      "2021-11-11 23:42:33,424 : INFO : worker thread finished; awaiting finish of 0 more threads\n",
      "2021-11-11 23:42:33,425 : INFO : EPOCH - 5 : training on 17005207 raw words (12333907 effective words) took 21.7s, 567172 effective words/s\n",
      "2021-11-11 23:42:33,427 : INFO : Word2Vec lifecycle event {'msg': 'training on 85026035 raw words (61670760 effective words) took 98.1s, 628416 effective words/s', 'datetime': '2021-11-11T23:42:33.427632', 'gensim': '4.1.2', 'python': '3.8.8 (default, Apr 13 2021, 15:08:03) [MSC v.1916 64 bit (AMD64)]', 'platform': 'Windows-10-10.0.22494-SP0', 'event': 'train'}\n",
      "2021-11-11 23:42:33,429 : INFO : Word2Vec lifecycle event {'params': 'Word2Vec(vocab=47134, vector_size=100, alpha=0.025)', 'datetime': '2021-11-11T23:42:33.429626', 'gensim': '4.1.2', 'python': '3.8.8 (default, Apr 13 2021, 15:08:03) [MSC v.1916 64 bit (AMD64)]', 'platform': 'Windows-10-10.0.22494-SP0', 'event': 'created'}\n"
     ]
    }
   ],
   "source": [
    "import gensim\n",
    "from gensim.models import word2vec\n",
    "import logging\n",
    "\n",
    "logging.basicConfig(format='%(asctime)s : %(levelname)s : %(message)s', \n",
    "                    level=logging.INFO)\n",
    "sentences = word2vec.Text8Corpus('https://raw.githubusercontent.com/YData123/sds265-fa21/main/assignments/assn5/text8')\n",
    "model = word2vec.Word2Vec(sentences, vector_size=100, window=10, min_count=10)"
   ]
  },
  {
   "cell_type": "markdown",
   "id": "f723992f",
   "metadata": {},
   "source": [
    "The dictionary `model.wv`, keyed by words (as strings), has values which are the word embeddings (as numpy arrays)."
   ]
  },
  {
   "cell_type": "markdown",
   "id": "67d8ddfd",
   "metadata": {},
   "source": [
    "We will also work with pre-trained GloVe embeddings. These embeddings were trained on a large corpus containing 6 billion tokens. You can load these embedding vectors using this code:"
   ]
  },
  {
   "cell_type": "code",
   "execution_count": 25,
   "id": "9dd03f2a",
   "metadata": {},
   "outputs": [
    {
     "name": "stderr",
     "output_type": "stream",
     "text": [
      "2021-11-11 23:42:37,702 : INFO : loading projection weights from C:\\Users\\Ji Qi/gensim-data\\glove-wiki-gigaword-100\\glove-wiki-gigaword-100.gz\n",
      "2021-11-11 23:43:34,943 : INFO : KeyedVectors lifecycle event {'msg': 'loaded (400000, 100) matrix of type float32 from C:\\\\Users\\\\Ji Qi/gensim-data\\\\glove-wiki-gigaword-100\\\\glove-wiki-gigaword-100.gz', 'binary': False, 'encoding': 'utf8', 'datetime': '2021-11-11T23:43:34.943199', 'gensim': '4.1.2', 'python': '3.8.8 (default, Apr 13 2021, 15:08:03) [MSC v.1916 64 bit (AMD64)]', 'platform': 'Windows-10-10.0.22494-SP0', 'event': 'load_word2vec_format'}\n"
     ]
    }
   ],
   "source": [
    "import gensim.downloader as gdl\n",
    "glove = gdl.load(\"glove-wiki-gigaword-100\")"
   ]
  },
  {
   "cell_type": "markdown",
   "id": "f2532d7f",
   "metadata": {},
   "source": [
    "Here is a sample evaluation: puppy is to dog as what is to kitten?"
   ]
  },
  {
   "cell_type": "code",
   "execution_count": null,
   "id": "efca2ba5",
   "metadata": {},
   "outputs": [
    {
     "name": "stderr",
     "output_type": "stream",
     "text": [
      "2021-11-08 14:56:51,891 : INFO : precomputing L2-norms of word weight vectors\n"
     ]
    },
    {
     "data": {
      "text/plain": [
       "('cat', 0.6935379505157471)"
      ]
     },
     "execution_count": 5,
     "metadata": {},
     "output_type": "execute_result"
    }
   ],
   "source": [
    "glove.most_similar(positive = ['dog', 'kitten'], negative = ['puppy'])[0]"
   ]
  },
  {
   "cell_type": "markdown",
   "id": "194b9155",
   "metadata": {},
   "source": [
    "####  Experiments\n",
    "\n",
    "Conduct the following experiments with **both sets of embeddings**: the local word2vec embeddings, and the pre-trained GloVe embeddings. Based on the available memory on your computer, you may need to perform the experiments for each set of embeddings in a fresh Python session. Comment on the qualitative differences in the results for each of the embeddings.\n",
    "\n",
    "\n",
    "#### 2.1 Find the closest words\n",
    "\n",
    "For each of the following words, find the 5 closest words in the embedding space, and report your results:\n",
    "\n",
    "          yale, physics, dessert, einstein, algebra, fish\n",
    "          \n",
    "Here, \"closest\" means in terms of cosine similarity. See the gensim documentation; you might want to use the most similar function, or a related function. Choose five other query words yourself, and for each of them show the closest words in the embedding space. Comment on your findings."
   ]
  },
  {
   "cell_type": "code",
   "execution_count": null,
   "id": "da0f3639",
   "metadata": {},
   "outputs": [
    {
     "name": "stdout",
     "output_type": "stream",
     "text": [
      "[('harvard', 0.9161344766616821), ('princeton', 0.867539644241333), ('university', 0.8113802671432495), ('cornell', 0.8014455437660217), ('stanford', 0.787754476070404)] [('chemistry', 0.8498000502586365), ('mathematics', 0.834094762802124), ('science', 0.7914698719978333), ('biology', 0.7894973158836365), ('theoretical', 0.7342938780784607)] [('desserts', 0.8192153573036194), ('cake', 0.7649705410003662), ('delicious', 0.7600687146186829), ('chocolate', 0.738676905632019), ('cakes', 0.7226456999778748)] [('relativity', 0.6908349394798279), ('freud', 0.6417257785797119), ('physics', 0.6145339012145996), ('bohr', 0.6144247055053711), ('theory', 0.6042598485946655)] [('algebras', 0.7539783716201782), ('geometry', 0.6790961027145386), ('algebraic', 0.6474162340164185), ('boolean', 0.6418250799179077), ('commutative', 0.6322143077850342)] [('shrimp', 0.7793381214141846), ('salmon', 0.7608143091201782), ('tuna', 0.7485246658325195), ('meat', 0.7119255065917969), ('seafood', 0.6940563321113586)]\n"
     ]
    }
   ],
   "source": [
    "# your code and markdown here\n",
    "print(\n",
    "glove.most_similar('yale', topn=5),\n",
    "glove.most_similar('physics', topn=5),\n",
    "glove.most_similar('dessert', topn=5),\n",
    "glove.most_similar('einstein', topn=5),\n",
    "glove.most_similar('algebra', topn=5),\n",
    "glove.most_similar('fish', topn=5))"
   ]
  },
  {
   "cell_type": "code",
   "execution_count": 28,
   "id": "84449fcf",
   "metadata": {},
   "outputs": [
    {
     "name": "stdout",
     "output_type": "stream",
     "text": [
      "[('harvard', 0.8473474979400635), ('princeton', 0.8101245760917664), ('cornell', 0.803199827671051), ('rutgers', 0.7824962139129639), ('stanford', 0.7587567567825317)] [('electrodynamics', 0.7818374633789062), ('mechanics', 0.7781468033790588), ('theoretical', 0.7464304566383362), ('astronomy', 0.7415562272071838), ('electromagnetism', 0.7396538853645325)] [('stew', 0.8733224868774414), ('pork', 0.8663265109062195), ('grilled', 0.8562917709350586), ('steamed', 0.8535162210464478), ('tomato', 0.8523162603378296)] [('fermi', 0.8070806264877319), ('dinger', 0.7915767431259155), ('planck', 0.7912207245826721), ('heisenberg', 0.780948281288147), ('maxwell', 0.7670904994010925)] [('algebraic', 0.8693658113479614), ('topology', 0.838798999786377), ('associative', 0.8241924047470093), ('boolean', 0.8075669407844543), ('commutative', 0.7994086742401123)] [('foxes', 0.8467469811439514), ('cattle', 0.8179076313972473), ('shrimp', 0.8156296610832214), ('whales', 0.8089657425880432), ('sheep', 0.806541919708252)]\n"
     ]
    }
   ],
   "source": [
    "print(\n",
    "    model.wv.most_similar('yale', topn=5),\n",
    "model.wv.most_similar('physics', topn=5),\n",
    "model.wv.most_similar('dessert', topn=5),\n",
    "model.wv.most_similar('einstein', topn=5),\n",
    "model.wv.most_similar('algebra', topn=5),\n",
    "model.wv.most_similar('fish', topn=5),\n",
    ")"
   ]
  },
  {
   "cell_type": "markdown",
   "id": "3d5a8c27",
   "metadata": {},
   "source": [
    "most of the top-5 closest words are similar words both in the same category and in the part of speech. For example, \"yale\", \"harvard\",and \"princeton\" are all ivy league universities and nouns; \"physics\", \"mathematics\", and \"chemistry\" are all natural science subjects and nouns. The other closest words of the word show some fundemental properties of the word. For example, \"yale\" is a \"university\"; \"physics\" is \"theoretical\" \"science\"; \"fish\" is a kind of \"seafood\"."
   ]
  },
  {
   "cell_type": "code",
   "execution_count": 26,
   "id": "e6a9cd81",
   "metadata": {},
   "outputs": [
    {
     "name": "stdout",
     "output_type": "stream",
     "text": [
      "[('yale', 0.847323477268219), ('faculty', 0.7951253652572632), ('cornell', 0.7837936282157898), ('graduate', 0.7583586573600769), ('princeton', 0.7446129322052002)] [('mathematical', 0.8498882055282593), ('geometry', 0.738296627998352), ('algebra', 0.7314383387565613), ('calculus', 0.7209789156913757), ('logic', 0.7008056640625)] [('dinger', 0.7898844480514526), ('heisenberg', 0.7720593214035034), ('einstein', 0.7584236860275269), ('fermi', 0.75608891248703), ('physics', 0.7519253492355347)] [('geometric', 0.8217810392379761), ('trigonometry', 0.8076184988021851), ('calculus', 0.803760290145874), ('algebraic', 0.8016397953033447), ('topology', 0.7947611212730408)] [('citrus', 0.9097374677658081), ('seafood', 0.8997024893760681), ('beef', 0.8798601627349854), ('pork', 0.8787608742713928), ('potatoes', 0.8779131174087524)]\n"
     ]
    }
   ],
   "source": [
    "print(\n",
    "    model.wv.most_similar('harvard', topn=5),\n",
    "model.wv.most_similar('mathematics', topn=5),\n",
    "model.wv.most_similar('planck', topn=5),\n",
    "model.wv.most_similar('geometry', topn=5),\n",
    "model.wv.most_similar('shrimp', topn=5),\n",
    ")"
   ]
  },
  {
   "cell_type": "code",
   "execution_count": 27,
   "id": "63ebf083",
   "metadata": {},
   "outputs": [
    {
     "name": "stdout",
     "output_type": "stream",
     "text": [
      "[('yale', 0.9161344766616821), ('princeton', 0.8444410562515259), ('graduate', 0.8181679248809814), ('university', 0.8156033754348755), ('stanford', 0.810197114944458)] [('physics', 0.834094762802124), ('mathematical', 0.7631471157073975), ('science', 0.7607673406600952), ('biology', 0.7574610114097595), ('chemistry', 0.7529067397117615)] [('particle', 0.5575568675994873), ('astrophysics', 0.5189620852470398), ('cyclotron', 0.5111973881721497), ('boltzmann', 0.5060967206954956), ('entropy', 0.505074679851532)] [('algebraic', 0.757987380027771), ('differential', 0.7062228918075562), ('trigonometry', 0.7045199275016785), ('geometric', 0.6944104433059692), ('analytic', 0.6942931413650513)] [('lobster', 0.8110523819923401), ('prawns', 0.7906647324562073), ('crab', 0.7873328328132629), ('fish', 0.7793381214141846), ('scallops', 0.7699012756347656)]\n"
     ]
    }
   ],
   "source": [
    "print(\n",
    "    glove.most_similar('harvard', topn=5),\n",
    "glove.most_similar('mathematics', topn=5),\n",
    "glove.most_similar('planck', topn=5),\n",
    "glove.most_similar('geometry', topn=5),\n",
    "glove.most_similar('shrimp', topn=5),\n",
    ")"
   ]
  },
  {
   "cell_type": "markdown",
   "id": "ec5353b7",
   "metadata": {},
   "source": [
    "We can find that the GloVe model is doing a better job than word2vec model, since GloVe model was trained on a much larger dataset based on Wikipedia. For example, the word \"fish\", 5 closest words by using word2vec model are: 'sheep', 'shrimp', 'cattle', 'foxes' and 'seafood'. However, 5 closest words by using GloVe model are: 'shrimp', 'salmon', 'tuna', 'meat' and 'seafood'. It is obvious that 'shrimp', 'salmon', 'tuna', 'meat' and 'seafood' are have something to do with 'fish'; however, 'cattle' and 'foxes' selected by word2vec doesn't have much thing to do with 'fish'."
   ]
  },
  {
   "cell_type": "markdown",
   "id": "6f320f0c",
   "metadata": {},
   "source": [
    "#### 2.2 Complete analogies\n",
    "\n",
    "A surprising consequence of some word embedding methods is that they can be used to resolve analogies, like\n",
    "\n",
    "                   france :  paris ::  england :  ?\n",
    "                   \n",
    "You can \"solve\" this analogy by computing the nearest embedding vector to $v$ where, $v = v_{paris} − v_{france} + v_{england}$.\n",
    "\n",
    "Solve the following analogies with both sets of word embeddings and report your results:\n",
    "\n",
    "                   france :  paris ::  england :  ?\n",
    "                   france :  paris ::  germany :  ?\n",
    "                     queen :  woman ::  king :  ?\n",
    "                     \n",
    "Choose five other analogies yourself, and report the results."
   ]
  },
  {
   "cell_type": "code",
   "execution_count": null,
   "id": "1b467376",
   "metadata": {},
   "outputs": [
    {
     "data": {
      "text/plain": [
       "[('london', 0.8123227953910828),\n",
       " ('melbourne', 0.7388997077941895),\n",
       " ('sydney', 0.714728832244873),\n",
       " ('birmingham', 0.696514904499054),\n",
       " ('perth', 0.6886942386627197),\n",
       " ('cambridge', 0.6872051954269409),\n",
       " ('oxford', 0.6779206991195679),\n",
       " ('leeds', 0.6770237684249878),\n",
       " ('dublin', 0.6747875213623047),\n",
       " ('manchester', 0.6740053296089172)]"
      ]
     },
     "execution_count": 7,
     "metadata": {},
     "output_type": "execute_result"
    }
   ],
   "source": [
    "glove.most_similar(positive=['paris', 'england'], negative=['france'], topn=10)"
   ]
  },
  {
   "cell_type": "code",
   "execution_count": 29,
   "id": "ff86c3ee",
   "metadata": {},
   "outputs": [
    {
     "data": {
      "text/plain": [
       "[('edinburgh', 0.7130708694458008),\n",
       " ('london', 0.676858127117157),\n",
       " ('glasgow', 0.6337019801139832),\n",
       " ('abbey', 0.6323848366737366),\n",
       " ('westminster', 0.6295573115348816),\n",
       " ('concord', 0.6265250444412231),\n",
       " ('worcester', 0.608669638633728),\n",
       " ('birmingham', 0.5902668237686157),\n",
       " ('surrey', 0.5862783193588257),\n",
       " ('nottingham', 0.5813407897949219)]"
      ]
     },
     "execution_count": 29,
     "metadata": {},
     "output_type": "execute_result"
    }
   ],
   "source": [
    "model.wv.most_similar(positive=['paris', 'england'], negative=['france'], topn=10)"
   ]
  },
  {
   "cell_type": "code",
   "execution_count": null,
   "id": "af1f18db",
   "metadata": {},
   "outputs": [
    {
     "data": {
      "text/plain": [
       "[('berlin', 0.8846380710601807),\n",
       " ('frankfurt', 0.7985543608665466),\n",
       " ('vienna', 0.7675994038581848),\n",
       " ('munich', 0.7542588114738464),\n",
       " ('hamburg', 0.7182371616363525),\n",
       " ('bonn', 0.6890878081321716),\n",
       " ('prague', 0.6842440962791443),\n",
       " ('cologne', 0.6762093305587769),\n",
       " ('zurich', 0.6653268933296204),\n",
       " ('leipzig', 0.6619253754615784)]"
      ]
     },
     "execution_count": 79,
     "metadata": {},
     "output_type": "execute_result"
    }
   ],
   "source": [
    "glove.most_similar(positive=['paris', 'germany'], negative=['france'], topn=10)"
   ]
  },
  {
   "cell_type": "code",
   "execution_count": 30,
   "id": "2f87f974",
   "metadata": {},
   "outputs": [
    {
     "data": {
      "text/plain": [
       "[('berlin', 0.8328025937080383),\n",
       " ('munich', 0.7696191668510437),\n",
       " ('vienna', 0.7063215374946594),\n",
       " ('leipzig', 0.6916210055351257),\n",
       " ('frankfurt', 0.6666767001152039),\n",
       " ('freiburg', 0.6657721996307373),\n",
       " ('speer', 0.6483389735221863),\n",
       " ('heidelberg', 0.6460251212120056),\n",
       " ('dresden', 0.6415418982505798),\n",
       " ('bonn', 0.6391190886497498)]"
      ]
     },
     "execution_count": 30,
     "metadata": {},
     "output_type": "execute_result"
    }
   ],
   "source": [
    "model.wv.most_similar(positive=['paris', 'germany'], negative=['france'], topn=10)"
   ]
  },
  {
   "cell_type": "code",
   "execution_count": null,
   "id": "8e8f8ab1",
   "metadata": {},
   "outputs": [
    {
     "data": {
      "text/plain": [
       "[('man', 0.790776789188385),\n",
       " ('father', 0.7224542498588562),\n",
       " ('son', 0.7012037038803101),\n",
       " ('boy', 0.6988654732704163),\n",
       " ('another', 0.6853840351104736),\n",
       " ('person', 0.6754911541938782),\n",
       " ('who', 0.6728038191795349),\n",
       " ('brother', 0.6645877957344055),\n",
       " ('mother', 0.6613163948059082),\n",
       " ('one', 0.6554158329963684)]"
      ]
     },
     "execution_count": 81,
     "metadata": {},
     "output_type": "execute_result"
    }
   ],
   "source": [
    "glove.most_similar(positive=['king', 'woman'], negative=['queen'], topn=10)"
   ]
  },
  {
   "cell_type": "code",
   "execution_count": 31,
   "id": "45bf5a2a",
   "metadata": {},
   "outputs": [
    {
     "data": {
      "text/plain": [
       "[('man', 0.6344357132911682),\n",
       " ('jew', 0.6257914304733276),\n",
       " ('son', 0.5733802914619446),\n",
       " ('child', 0.5629153251647949),\n",
       " ('prostitute', 0.5578898787498474),\n",
       " ('prophet', 0.5521579384803772),\n",
       " ('jacob', 0.5425581336021423),\n",
       " ('minotaur', 0.5401904582977295),\n",
       " ('descendant', 0.5394933819770813),\n",
       " ('stranger', 0.5387341976165771)]"
      ]
     },
     "execution_count": 31,
     "metadata": {},
     "output_type": "execute_result"
    }
   ],
   "source": [
    "model.wv.most_similar(positive=['king', 'woman'], negative=['queen'], topn=10)"
   ]
  },
  {
   "cell_type": "code",
   "execution_count": null,
   "id": "9665fe1c",
   "metadata": {},
   "outputs": [
    {
     "data": {
      "text/plain": [
       "[('oxford', 0.8065130710601807),\n",
       " ('trinity', 0.6591581702232361),\n",
       " ('college', 0.6458384394645691),\n",
       " ('berkeley', 0.6405155658721924),\n",
       " ('university', 0.633739709854126),\n",
       " ('research', 0.6237657070159912),\n",
       " ('massachusetts', 0.6177628636360168),\n",
       " ('exeter', 0.6092889308929443),\n",
       " ('study', 0.6052048206329346),\n",
       " ('studies', 0.601348876953125)]"
      ]
     },
     "execution_count": 109,
     "metadata": {},
     "output_type": "execute_result"
    }
   ],
   "source": [
    "glove.most_similar(positive=['harvard', 'cambridge'], negative=['yale'], topn=10)"
   ]
  },
  {
   "cell_type": "code",
   "execution_count": 32,
   "id": "91c2564d",
   "metadata": {},
   "outputs": [
    {
     "data": {
      "text/plain": [
       "[('oxford', 0.7378795146942139),\n",
       " ('princeton', 0.6621752381324768),\n",
       " ('oup', 0.6253624558448792),\n",
       " ('phd', 0.6068180203437805),\n",
       " ('humanities', 0.5995826721191406),\n",
       " ('univ', 0.5791908502578735),\n",
       " ('lectures', 0.5747931599617004),\n",
       " ('stanford', 0.5738669037818909),\n",
       " ('marischal', 0.5729469060897827),\n",
       " ('academic', 0.5621044635772705)]"
      ]
     },
     "execution_count": 32,
     "metadata": {},
     "output_type": "execute_result"
    }
   ],
   "source": [
    "model.wv.most_similar(positive=['harvard', 'cambridge'], negative=['yale'], topn=10)"
   ]
  },
  {
   "cell_type": "code",
   "execution_count": null,
   "id": "d6af2e33",
   "metadata": {},
   "outputs": [
    {
     "data": {
      "text/plain": [
       "[('berlusconi', 0.6134708523750305),\n",
       " ('silvio', 0.5475398898124695),\n",
       " ('dini', 0.5409714579582214),\n",
       " ('scalfaro', 0.5239711403846741),\n",
       " ('stefano', 0.4917651414871216),\n",
       " ('lamberto', 0.490522176027298),\n",
       " ('prodi', 0.4878629446029663),\n",
       " ('domenico', 0.4548022150993347),\n",
       " ('juventus', 0.447188138961792),\n",
       " ('parma', 0.44440269470214844)]"
      ]
     },
     "execution_count": 91,
     "metadata": {},
     "output_type": "execute_result"
    }
   ],
   "source": [
    "glove.most_similar(positive=['trump', 'italy'], negative=['usa'], topn=10)"
   ]
  },
  {
   "cell_type": "code",
   "execution_count": 33,
   "id": "6ad7f3c9",
   "metadata": {},
   "outputs": [
    {
     "data": {
      "text/plain": [
       "[('caligula', 0.528862714767456),\n",
       " ('tiberius', 0.5222833156585693),\n",
       " ('claudius', 0.522044837474823),\n",
       " ('soga', 0.5200117230415344),\n",
       " ('caesar', 0.5144539475440979),\n",
       " ('octavian', 0.5117034912109375),\n",
       " ('heraclius', 0.5025618672370911),\n",
       " ('usurper', 0.5015037059783936),\n",
       " ('agrippina', 0.49293211102485657),\n",
       " ('lepidus', 0.48556119203567505)]"
      ]
     },
     "execution_count": 33,
     "metadata": {},
     "output_type": "execute_result"
    }
   ],
   "source": [
    "model.wv.most_similar(positive=['trump', 'italy'], negative=['usa'], topn=10)"
   ]
  },
  {
   "cell_type": "code",
   "execution_count": null,
   "id": "bf0ae963",
   "metadata": {},
   "outputs": [
    {
     "data": {
      "text/plain": [
       "[('abe', 0.5799363851547241),\n",
       " ('hashimoto', 0.5672397017478943),\n",
       " ('junichiro', 0.5445129871368408),\n",
       " ('koizumi', 0.5363299250602722),\n",
       " ('fukuda', 0.5132630467414856),\n",
       " ('yoshiro', 0.5123278498649597),\n",
       " ('hatoyama', 0.5096796751022339),\n",
       " ('shinzo', 0.5081068277359009),\n",
       " ('obuchi', 0.500024676322937),\n",
       " ('ivanka', 0.49894893169403076)]"
      ]
     },
     "execution_count": 94,
     "metadata": {},
     "output_type": "execute_result"
    }
   ],
   "source": [
    "glove.most_similar(positive=['trump', 'japan'], negative=['usa'], topn=10)"
   ]
  },
  {
   "cell_type": "code",
   "execution_count": 34,
   "id": "bd5faf54",
   "metadata": {},
   "outputs": [
    {
     "data": {
      "text/plain": [
       "[('shogun', 0.5167736411094666),\n",
       " ('japanese', 0.48669618368148804),\n",
       " ('melee', 0.4746353328227997),\n",
       " ('character', 0.4620440602302551),\n",
       " ('token', 0.4617423415184021),\n",
       " ('emperor', 0.45105770230293274),\n",
       " ('blackjack', 0.4462856352329254),\n",
       " ('swaps', 0.44136255979537964),\n",
       " ('goldeneye', 0.4401916265487671),\n",
       " ('vlad', 0.43126559257507324)]"
      ]
     },
     "execution_count": 34,
     "metadata": {},
     "output_type": "execute_result"
    }
   ],
   "source": [
    "model.wv.most_similar(positive=['trump', 'japan'], negative=['usa'], topn=10)"
   ]
  },
  {
   "cell_type": "code",
   "execution_count": null,
   "id": "62915f42",
   "metadata": {},
   "outputs": [
    {
     "data": {
      "text/plain": [
       "[('germany', 0.5512969493865967),\n",
       " ('french', 0.5501134395599365),\n",
       " ('spain', 0.5493493676185608),\n",
       " ('paris', 0.5301828384399414),\n",
       " ('italy', 0.517480194568634),\n",
       " ('de', 0.511626660823822),\n",
       " ('america', 0.5081153512001038),\n",
       " ('v', 0.5019479393959045),\n",
       " ('lyon', 0.4998127222061157),\n",
       " ('belgium', 0.49166321754455566)]"
      ]
     },
     "execution_count": 106,
     "metadata": {},
     "output_type": "execute_result"
    }
   ],
   "source": [
    "glove.most_similar(positive=['usa', 'france'], negative=['canada'], topn=10)"
   ]
  },
  {
   "cell_type": "code",
   "execution_count": 35,
   "id": "bdb1ce37",
   "metadata": {},
   "outputs": [
    {
     "data": {
      "text/plain": [
       "[('italy', 0.6130130290985107),\n",
       " ('paris', 0.5933648347854614),\n",
       " ('switzerland', 0.5915034413337708),\n",
       " ('italiana', 0.5670886635780334),\n",
       " ('montreux', 0.5614999532699585),\n",
       " ('munich', 0.5507471561431885),\n",
       " ('commune', 0.5470203757286072),\n",
       " ('belgium', 0.5303712487220764),\n",
       " ('alsace', 0.5283372402191162),\n",
       " ('ukraine', 0.5259213447570801)]"
      ]
     },
     "execution_count": 35,
     "metadata": {},
     "output_type": "execute_result"
    }
   ],
   "source": [
    "model.wv.most_similar(positive=['usa', 'france'], negative=['canada'], topn=10)"
   ]
  },
  {
   "cell_type": "markdown",
   "id": "c41a8b82",
   "metadata": {},
   "source": [
    "In general, based on the above results, we can see that the GloVe model gave more reasonable answers. For example, for France to Paris , it makes sense to pick London for GloVe but not Edinghburg which is not an England city in Word2Vec."
   ]
  },
  {
   "cell_type": "markdown",
   "id": "300c9f54",
   "metadata": {},
   "source": [
    "#### 2.3 Visualize embeddings\n",
    "\n",
    "Use the t-SNE dimensionality reduction technique to visualize the embeddings in two dimensions. The sample code below will perform the t-SNE method on a subset of the vocabulary. You can start with this code and modify it to construct visualizations of the embeddings, or start with your own version of t-SNE.\n",
    "\n",
    "The code provided shows the relative positions of the words conservative, liberal, elephant, and donkey based on GloVe embeddings. For your local embeddings, you may use similar code to visualize the embeddings. \n",
    "\n",
    "Find at least three more examples that produce expected results and three examples that produce surprising results. Include the plots in your write-up. Give reasons why you might see surprising behavior here."
   ]
  },
  {
   "cell_type": "code",
   "execution_count": 34,
   "id": "b7bfae18",
   "metadata": {},
   "outputs": [],
   "source": [
    "%matplotlib inline\n",
    "import numpy as np\n",
    "import matplotlib.pyplot as plt\n",
    "from sklearn.manifold import TSNE\n",
    "\n",
    "\n",
    "# this functions computes and displays the 2-d t-SNE maps for a subset of the embedding vectors\n",
    "# and displays them together with the points for a set of input words.\n",
    "\n",
    "def display_tsne_neighborhood(model, input_word, nsample=1000, size1=2, size2=10, offset=5):\n",
    "    \n",
    "    arr = np.empty((0,100), dtype='f')\n",
    "    word_label = input_word\n",
    "\n",
    "    # add the vector for each of the closest words to the array\n",
    "    for w in range(len(input_word)):\n",
    "        arr = np.append(arr, np.array([model[input_word[w]]]), axis=0)\n",
    "\n",
    "    voc = [w for w in model.key_to_index]\n",
    "    wrds = np.random.choice(range(len(voc)), size=nsample, replace=False)\n",
    "    for w in wrds:\n",
    "        wrd_vector = model[voc[w]]\n",
    "        arr = np.append(arr, np.array([wrd_vector]), axis=0)\n",
    "        \n",
    "    # find tsne coords for 2 dimensions\n",
    "    tsne = TSNE(n_components=2, random_state=0)\n",
    "    np.set_printoptions(suppress=True)\n",
    "    Y = tsne.fit_transform(arr)\n",
    "\n",
    "    x_coord = Y[:, 0]\n",
    "    y_coord = Y[:, 1]\n",
    "    # display scatter plot\n",
    "    size=2\n",
    "    plt.scatter(x_coord, y_coord, s=size1)\n",
    "    plt.scatter(x_coord[0:len(input_word)], y_coord[0:len(input_word)],s=size2)\n",
    "    \n",
    "    # label the input words\n",
    "    for w in range(len(input_word)):\n",
    "        plt.annotate(input_word[w], xy=(x_coord[w],y_coord[w]), \n",
    "                     xytext=(w*offset,w*offset), textcoords='offset points')\n",
    "    plt.show()"
   ]
  },
  {
   "cell_type": "code",
   "execution_count": 23,
   "id": "409ce3fb",
   "metadata": {},
   "outputs": [
    {
     "data": {
      "image/png": "[encoded data removed]",
      "text/plain": [
       "<Figure size 720x720 with 1 Axes>"
      ]
     },
     "metadata": {
      "needs_background": "light"
     },
     "output_type": "display_data"
    }
   ],
   "source": [
    "%matplotlib inline\n",
    "plt.figure(figsize=(10,10))\n",
    "display_tsne_neighborhood(glove, input_word = ['conservative', 'liberal', 'donkey', 'elephant'])"
   ]
  },
  {
   "cell_type": "code",
   "execution_count": 38,
   "id": "536bbc82",
   "metadata": {},
   "outputs": [
    {
     "data": {
      "image/png": "[encoded data removed]",
      "text/plain": [
       "<Figure size 432x288 with 1 Axes>"
      ]
     },
     "metadata": {
      "needs_background": "light"
     },
     "output_type": "display_data"
    },
    {
     "data": {
      "image/png": "[encoded data removed]",
      "text/plain": [
       "<Figure size 432x288 with 1 Axes>"
      ]
     },
     "metadata": {
      "needs_background": "light"
     },
     "output_type": "display_data"
    }
   ],
   "source": [
    "# expected results\n",
    "display_tsne_neighborhood(glove, input_word = ['yale', 'harvard', 'cat', 'kitten', 'dog', 'puppy'])\n",
    "display_tsne_neighborhood(model.wv, input_word =['yale', 'harvard', 'cat', 'dog', 'tennis', 'soccer'])"
   ]
  },
  {
   "cell_type": "code",
   "execution_count": 36,
   "id": "fea9ceb6",
   "metadata": {},
   "outputs": [
    {
     "data": {
      "image/png": "[encoded data removed]",
      "text/plain": [
       "<Figure size 720x720 with 1 Axes>"
      ]
     },
     "metadata": {
      "needs_background": "light"
     },
     "output_type": "display_data"
    }
   ],
   "source": [
    "# Surprising Examples\n",
    "%matplotlib inline\n",
    "plt.figure(figsize=(10, 10))\n",
    "display_tsne_neighborhood(model.wv, input_word =['happy', 'sad', 'depressed', 'joyful'])\n"
   ]
  },
  {
   "cell_type": "code",
   "execution_count": 39,
   "id": "e2a0f848",
   "metadata": {},
   "outputs": [
    {
     "data": {
      "image/png": "[encoded data removed]",
      "text/plain": [
       "<Figure size 432x288 with 1 Axes>"
      ]
     },
     "metadata": {
      "needs_background": "light"
     },
     "output_type": "display_data"
    }
   ],
   "source": [
    "display_tsne_neighborhood(glove, input_word =['happy', 'sad', 'depressed', 'joyful'])\n"
   ]
  },
  {
   "cell_type": "code",
   "execution_count": 37,
   "id": "d842cb54",
   "metadata": {},
   "outputs": [
    {
     "data": {
      "image/png": "[encoded data removed]",
      "text/plain": [
       "<Figure size 432x288 with 1 Axes>"
      ]
     },
     "metadata": {
      "needs_background": "light"
     },
     "output_type": "display_data"
    }
   ],
   "source": [
    "display_tsne_neighborhood(model.wv, input_word =['sun', 'warm', 'snow', 'cold'])"
   ]
  },
  {
   "cell_type": "code",
   "execution_count": 40,
   "id": "b3a71c3f",
   "metadata": {},
   "outputs": [
    {
     "data": {
      "image/png": "[encoded data removed]",
      "text/plain": [
       "<Figure size 432x288 with 1 Axes>"
      ]
     },
     "metadata": {
      "needs_background": "light"
     },
     "output_type": "display_data"
    }
   ],
   "source": [
    "display_tsne_neighborhood(glove, input_word =['beautiful', 'handsome', 'pretty', 'noble'])"
   ]
  },
  {
   "cell_type": "code",
   "execution_count": 38,
   "id": "61866b6f",
   "metadata": {},
   "outputs": [
    {
     "data": {
      "image/png": "[encoded data removed]",
      "text/plain": [
       "<Figure size 432x288 with 1 Axes>"
      ]
     },
     "metadata": {
      "needs_background": "light"
     },
     "output_type": "display_data"
    }
   ],
   "source": [
    "display_tsne_neighborhood(model.wv, input_word =['beautiful', 'handsome', 'pretty', 'noble'])"
   ]
  },
  {
   "cell_type": "markdown",
   "id": "f8dcb649",
   "metadata": {},
   "source": [
    "The model we are using are not that advance or complicated, so it make simple decisions. Sometimes the word could have multiple meanings so our model confuses it. For example, 'sun' has many aspects and attributes, hence it is far away from warm and snow."
   ]
  },
  {
   "cell_type": "markdown",
   "id": "e8fd7100",
   "metadata": {},
   "source": [
    "### Problem  3: Experiments with Musician Embeddings (15 points)\n",
    "\n",
    "\n",
    "In this problem, we will use a collection of playlists obtained from [last.fm](http://last.fm). We treat each playlist as a document, and each artist in the playlist as a word. By feeding this dataset to word2vec, we will be able to learn artist embeddings."
   ]
  },
  {
   "cell_type": "markdown",
   "id": "784bf385",
   "metadata": {},
   "source": [
    "#### Artist Embeddings\n",
    "\n",
    "The following experiments will be done with the playlist data file `playlists.txt`. Each line in this file is a playlist. The integers on each line are unique artist identifiers, indicating which artists were in each playlist. The artists are in `artists.txt`."
   ]
  },
  {
   "cell_type": "markdown",
   "id": "6b969273",
   "metadata": {},
   "source": [
    "The code below constructs artist embeddings with word2vec. The artist names are mapped to id numbers in the playlists; the code maps them back to display the names."
   ]
  },
  {
   "cell_type": "code",
   "execution_count": 1,
   "id": "ac38fd24",
   "metadata": {},
   "outputs": [],
   "source": [
    "import gensim\n",
    "from gensim.models import word2vec\n",
    "import logging\n",
    "\n",
    "logging.basicConfig(format='%(asctime)s : %(levelname)s : %(message)s', level=logging.INFO)"
   ]
  },
  {
   "cell_type": "code",
   "execution_count": 2,
   "id": "1f402544",
   "metadata": {},
   "outputs": [
    {
     "name": "stderr",
     "output_type": "stream",
     "text": [
      "2021-11-11 23:21:11,512 : INFO : collecting all words and their counts\n",
      "2021-11-11 23:21:11,802 : INFO : PROGRESS: at sentence #0, processed 0 words, keeping 0 word types\n",
      "2021-11-11 23:21:13,264 : INFO : PROGRESS: at sentence #10000, processed 107891 words, keeping 3250 word types\n",
      "2021-11-11 23:21:14,273 : INFO : collected 3292 word types from a corpus of 189900 raw words and 18111 sentences\n",
      "2021-11-11 23:21:14,274 : INFO : Creating a fresh vocabulary\n",
      "2021-11-11 23:21:14,286 : INFO : Word2Vec lifecycle event {'msg': 'effective_min_count=10 retains 2228 unique words (67.67922235722965%% of original 3292, drops 1064)', 'datetime': '2021-11-11T23:21:14.284913', 'gensim': '4.1.2', 'python': '3.8.8 (default, Apr 13 2021, 15:08:03) [MSC v.1916 64 bit (AMD64)]', 'platform': 'Windows-10-10.0.22494-SP0', 'event': 'prepare_vocab'}\n",
      "2021-11-11 23:21:14,288 : INFO : Word2Vec lifecycle event {'msg': 'effective_min_count=10 leaves 183255 word corpus (96.50078988941549%% of original 189900, drops 6645)', 'datetime': '2021-11-11T23:21:14.288660', 'gensim': '4.1.2', 'python': '3.8.8 (default, Apr 13 2021, 15:08:03) [MSC v.1916 64 bit (AMD64)]', 'platform': 'Windows-10-10.0.22494-SP0', 'event': 'prepare_vocab'}\n",
      "2021-11-11 23:21:14,310 : INFO : deleting the raw counts dictionary of 3292 items\n",
      "2021-11-11 23:21:14,311 : INFO : sample=0.001 downsamples 59 most-common words\n",
      "2021-11-11 23:21:14,312 : INFO : Word2Vec lifecycle event {'msg': 'downsampling leaves estimated 173511.13228209765 word corpus (94.7%% of prior 183255)', 'datetime': '2021-11-11T23:21:14.312217', 'gensim': '4.1.2', 'python': '3.8.8 (default, Apr 13 2021, 15:08:03) [MSC v.1916 64 bit (AMD64)]', 'platform': 'Windows-10-10.0.22494-SP0', 'event': 'prepare_vocab'}\n",
      "2021-11-11 23:21:14,350 : INFO : estimated required memory for 2228 words and 64 dimensions: 2254736 bytes\n",
      "2021-11-11 23:21:14,351 : INFO : resetting layer weights\n",
      "2021-11-11 23:21:14,356 : INFO : Word2Vec lifecycle event {'update': False, 'trim_rule': 'None', 'datetime': '2021-11-11T23:21:14.356665', 'gensim': '4.1.2', 'python': '3.8.8 (default, Apr 13 2021, 15:08:03) [MSC v.1916 64 bit (AMD64)]', 'platform': 'Windows-10-10.0.22494-SP0', 'event': 'build_vocab'}\n",
      "2021-11-11 23:21:14,358 : INFO : Word2Vec lifecycle event {'msg': 'training model with 3 workers on 2228 vocabulary and 64 features, using sg=0 hs=0 sample=0.001 negative=5 window=100 shrink_windows=True', 'datetime': '2021-11-11T23:21:14.358655', 'gensim': '4.1.2', 'python': '3.8.8 (default, Apr 13 2021, 15:08:03) [MSC v.1916 64 bit (AMD64)]', 'platform': 'Windows-10-10.0.22494-SP0', 'event': 'train'}\n",
      "2021-11-11 23:21:15,464 : INFO : EPOCH 1 - PROGRESS: at 34.79% examples, 58060 words/s, in_qsize 0, out_qsize 0\n",
      "2021-11-11 23:21:16,548 : INFO : EPOCH 1 - PROGRESS: at 77.88% examples, 62563 words/s, in_qsize 0, out_qsize 0\n",
      "2021-11-11 23:21:17,130 : INFO : worker thread finished; awaiting finish of 2 more threads\n",
      "2021-11-11 23:21:17,133 : INFO : worker thread finished; awaiting finish of 1 more threads\n",
      "2021-11-11 23:21:17,166 : INFO : worker thread finished; awaiting finish of 0 more threads\n",
      "2021-11-11 23:21:17,171 : INFO : EPOCH - 1 : training on 189900 raw words (173691 effective words) took 2.8s, 61907 effective words/s\n",
      "2021-11-11 23:21:18,276 : INFO : EPOCH 2 - PROGRESS: at 34.79% examples, 58086 words/s, in_qsize 0, out_qsize 0\n",
      "2021-11-11 23:21:19,287 : INFO : EPOCH 2 - PROGRESS: at 77.88% examples, 64706 words/s, in_qsize 0, out_qsize 0\n",
      "2021-11-11 23:21:19,783 : INFO : worker thread finished; awaiting finish of 2 more threads\n",
      "2021-11-11 23:21:19,789 : INFO : worker thread finished; awaiting finish of 1 more threads\n",
      "2021-11-11 23:21:19,815 : INFO : worker thread finished; awaiting finish of 0 more threads\n",
      "2021-11-11 23:21:19,815 : INFO : EPOCH - 2 : training on 189900 raw words (173574 effective words) took 2.6s, 65796 effective words/s\n",
      "2021-11-11 23:21:20,934 : INFO : EPOCH 3 - PROGRESS: at 34.79% examples, 57274 words/s, in_qsize 0, out_qsize 0\n",
      "2021-11-11 23:21:21,954 : INFO : EPOCH 3 - PROGRESS: at 73.91% examples, 59675 words/s, in_qsize 0, out_qsize 0\n",
      "2021-11-11 23:21:22,648 : INFO : worker thread finished; awaiting finish of 2 more threads\n",
      "2021-11-11 23:21:22,663 : INFO : worker thread finished; awaiting finish of 1 more threads\n",
      "2021-11-11 23:21:22,689 : INFO : worker thread finished; awaiting finish of 0 more threads\n",
      "2021-11-11 23:21:22,691 : INFO : EPOCH - 3 : training on 189900 raw words (173475 effective words) took 2.9s, 60478 effective words/s\n",
      "2021-11-11 23:21:23,718 : INFO : EPOCH 4 - PROGRESS: at 30.04% examples, 53458 words/s, in_qsize 0, out_qsize 0\n",
      "2021-11-11 23:21:24,780 : INFO : EPOCH 4 - PROGRESS: at 77.88% examples, 65453 words/s, in_qsize 0, out_qsize 0\n",
      "2021-11-11 23:21:25,187 : INFO : worker thread finished; awaiting finish of 2 more threads\n",
      "2021-11-11 23:21:25,202 : INFO : worker thread finished; awaiting finish of 1 more threads\n",
      "2021-11-11 23:21:25,218 : INFO : worker thread finished; awaiting finish of 0 more threads\n",
      "2021-11-11 23:21:25,218 : INFO : EPOCH - 4 : training on 189900 raw words (173463 effective words) took 2.5s, 68612 effective words/s\n",
      "2021-11-11 23:21:26,313 : INFO : EPOCH 5 - PROGRESS: at 45.07% examples, 75503 words/s, in_qsize 0, out_qsize 0\n",
      "2021-11-11 23:21:27,292 : INFO : worker thread finished; awaiting finish of 2 more threads\n",
      "2021-11-11 23:21:27,292 : INFO : worker thread finished; awaiting finish of 1 more threads\n",
      "2021-11-11 23:21:27,308 : INFO : EPOCH 5 - PROGRESS: at 100.00% examples, 83000 words/s, in_qsize 0, out_qsize 1\n",
      "2021-11-11 23:21:27,308 : INFO : worker thread finished; awaiting finish of 0 more threads\n",
      "2021-11-11 23:21:27,308 : INFO : EPOCH - 5 : training on 189900 raw words (173391 effective words) took 2.1s, 82889 effective words/s\n",
      "2021-11-11 23:21:27,324 : INFO : Word2Vec lifecycle event {'msg': 'training on 949500 raw words (867594 effective words) took 13.0s, 66928 effective words/s', 'datetime': '2021-11-11T23:21:27.324102', 'gensim': '4.1.2', 'python': '3.8.8 (default, Apr 13 2021, 15:08:03) [MSC v.1916 64 bit (AMD64)]', 'platform': 'Windows-10-10.0.22494-SP0', 'event': 'train'}\n",
      "2021-11-11 23:21:27,324 : INFO : Word2Vec lifecycle event {'params': 'Word2Vec(vocab=2228, vector_size=64, alpha=0.025)', 'datetime': '2021-11-11T23:21:27.324102', 'gensim': '4.1.2', 'python': '3.8.8 (default, Apr 13 2021, 15:08:03) [MSC v.1916 64 bit (AMD64)]', 'platform': 'Windows-10-10.0.22494-SP0', 'event': 'created'}\n"
     ]
    }
   ],
   "source": [
    "playlists = word2vec.LineSentence('https://raw.githubusercontent.com/YData123/sds265-fa21/main/assignments/assn5/playlists.txt')\n",
    "music_model = word2vec.Word2Vec(playlists, vector_size=64, window=100, min_count=10)"
   ]
  },
  {
   "cell_type": "code",
   "execution_count": 8,
   "id": "43354dc6",
   "metadata": {},
   "outputs": [
    {
     "data": {
      "text/plain": [
       "array([ 0.43221834, -0.719046  ,  0.35036913, -0.14231592,  0.4971208 ,\n",
       "       -0.1797617 , -0.5566266 ,  0.20567587,  0.13281594,  1.0846256 ,\n",
       "       -1.0277593 ,  0.03148408, -1.1114904 ,  1.0139874 , -0.58704954,\n",
       "        0.71923184, -1.2146462 , -0.4928999 , -0.17486212, -0.00302529,\n",
       "        0.3356248 , -0.1338086 ,  0.8927364 , -0.5659078 ,  0.14080319,\n",
       "        0.07290081, -0.62687695, -0.37941518, -0.2949403 ,  0.6088427 ,\n",
       "        0.12690884, -0.73043376, -0.4217455 , -0.5017378 ,  0.22015284,\n",
       "       -0.79450095, -0.03438405,  0.62053007,  0.2710968 , -0.21670812,\n",
       "       -0.3212371 ,  0.4089281 ,  0.47807458, -0.04247258, -0.73664457,\n",
       "       -0.24361713, -0.14736517, -0.265629  ,  0.39810064,  0.8482604 ,\n",
       "       -0.18930028, -0.9559344 ,  0.5377905 ,  0.99594253,  0.24159366,\n",
       "        0.8123202 ,  0.6239836 , -0.84368503, -0.44289273,  1.108842  ,\n",
       "       -0.2063995 , -0.8246551 , -0.18020152,  0.48357093], dtype=float32)"
      ]
     },
     "execution_count": 8,
     "metadata": {},
     "output_type": "execute_result"
    }
   ],
   "source": [
    "music_model.wv['299']"
   ]
  },
  {
   "cell_type": "code",
   "execution_count": 7,
   "id": "cdf5617f",
   "metadata": {},
   "outputs": [
    {
     "data": {
      "text/plain": [
       "['Everette Harp',\n",
       " 'Bishop Paul S. Morton & Aretha Franklin',\n",
       " 'Frankie Ballard',\n",
       " 'Herb Alpert',\n",
       " 'Rod Stewart & Chaka Khan',\n",
       " 'Scars On 45',\n",
       " 'New Radicals',\n",
       " 'Crosby, Stills & Nash',\n",
       " 'Ledisi',\n",
       " 'La Quinta Estacion']"
      ]
     },
     "execution_count": 7,
     "metadata": {},
     "output_type": "execute_result"
    }
   ],
   "source": [
    "from urllib.request import urlopen \n",
    "\n",
    "artist = []\n",
    "file = urlopen('https://raw.githubusercontent.com/YData123/sds265-fa21/main/assignments/assn5/artists.txt')\n",
    "for line in file:\n",
    "    art = line.decode(\"utf-8\")\n",
    "    artist.append(art.strip())\n",
    "\n",
    "artist[0:10]"
   ]
  },
  {
   "cell_type": "code",
   "execution_count": 10,
   "id": "d09b0211",
   "metadata": {},
   "outputs": [
    {
     "data": {
      "text/plain": [
       "'Elton John'"
      ]
     },
     "execution_count": 10,
     "metadata": {},
     "output_type": "execute_result"
    }
   ],
   "source": [
    "id2name = {}\n",
    "name2id = {}\n",
    "for w in range(len(artist)):\n",
    "    id2name[\"%s\" % w] = artist[w]\n",
    "    name2id[artist[w]] = \"%s\" % w\n",
    "\n",
    "id2name[name2id['Elton John']]"
   ]
  },
  {
   "cell_type": "markdown",
   "id": "7bfbfe0d",
   "metadata": {},
   "source": [
    "#### 3.1 Similar artists\n",
    "\n",
    "Find the 5 closest artist embedding vectors to the artists \"The Beatles\", \"Lady Gaga\", and \"Nirvana\". Comment on the results."
   ]
  },
  {
   "cell_type": "code",
   "execution_count": 11,
   "id": "be7c6cda",
   "metadata": {},
   "outputs": [
    {
     "name": "stdout",
     "output_type": "stream",
     "text": [
      "artists similar to 'Aerosmith'\n",
      "\n",
      "\tBilly Idol\n",
      "\tThe Jimi Hendrix Experience\n",
      "\tCheap Trick\n",
      "\tDef Leppard\n",
      "\tGeorge Thorogood & The Destroyers\n"
     ]
    }
   ],
   "source": [
    "# Don't change this function\n",
    "def similar_artists(model, artist, n=5):\n",
    "    id = name2id[artist]\n",
    "    out = model.wv.most_similar(id, topn=n)\n",
    "\n",
    "    print(\"artists similar to '%s'\\n\" % artist)\n",
    "    for i in range(n) :\n",
    "        name = id2name[out[i][0]]\n",
    "        print(\"\\t%s\" % name)\n",
    "        \n",
    "similar_artists(music_model, 'Aerosmith')"
   ]
  },
  {
   "cell_type": "code",
   "execution_count": 52,
   "id": "e68317a4",
   "metadata": {},
   "outputs": [
    {
     "name": "stdout",
     "output_type": "stream",
     "text": [
      "artists similar to 'The Beatles'\n",
      "\n",
      "\tSteppenwolf\n",
      "\tGrand Funk Railroad\n",
      "\tCreedence Clearwater Revival\n",
      "\tThe Electric Light Orchestra\n",
      "\tWarren Zevon\n"
     ]
    }
   ],
   "source": [
    "similar_artists(music_model, 'The Beatles')"
   ]
  },
  {
   "cell_type": "code",
   "execution_count": 53,
   "id": "dca78e56",
   "metadata": {},
   "outputs": [
    {
     "name": "stdout",
     "output_type": "stream",
     "text": [
      "artists similar to 'Lady Gaga'\n",
      "\n",
      "\tBruno Mars\n",
      "\tKaty Perry\n",
      "\tBlack Eyed Peas\n",
      "\tChristina Perri\n",
      "\tPink\n"
     ]
    }
   ],
   "source": [
    "similar_artists(music_model, 'Lady Gaga')"
   ]
  },
  {
   "cell_type": "code",
   "execution_count": 54,
   "id": "ec4d126a",
   "metadata": {},
   "outputs": [
    {
     "name": "stdout",
     "output_type": "stream",
     "text": [
      "artists similar to 'Nirvana'\n",
      "\n",
      "\tPearl Jam\n",
      "\tTemple Of The Dog\n",
      "\tFaith No More\n",
      "\tStone Temple Pilots\n",
      "\tBush\n"
     ]
    }
   ],
   "source": [
    "similar_artists(music_model, 'Nirvana')"
   ]
  },
  {
   "cell_type": "markdown",
   "id": "7a8b99fb",
   "metadata": {},
   "source": [
    "For each artist, the music style and active time period of the 5 closest artists is similar to him/her/themselves. For example, The Beatles were an English rock band active between 1960 and 1970, while Steppenwolf was an American rock band that was prominent from 1968 to 1972. The Electric Light Orchestra (ELO) are an English rock band formed in Birmingham in 1970. Also, Nirvana and Beatles are bands so the closest artists are mostly bands. Lady Gaga is single singer so Bruno Mars, Katy Perry, etc. are single popular singers."
   ]
  },
  {
   "cell_type": "markdown",
   "id": "81082bd2",
   "metadata": {},
   "source": [
    "#### 3.3 Visualize embeddings\n",
    "\n",
    "Use the t-SNE dimensionality reduction technique to visualize the artist embeddings. After running t-SNE on the artist embeddings, try visualizing  \"The Temptations\" and \"The Supremes\" together. Find a few more examples that you think are interesting and include the plots in your write-up. Comment on your findings."
   ]
  },
  {
   "cell_type": "code",
   "execution_count": 12,
   "id": "36364830",
   "metadata": {},
   "outputs": [],
   "source": [
    "%matplotlib inline\n",
    "import numpy as np\n",
    "import matplotlib.pyplot as plt\n",
    "from sklearn.manifold import TSNE\n",
    "\n",
    "\n",
    "# this functions computes and displays the 2-d t-SNE maps for a subset of the embedding vectors\n",
    "# and displays them together with the points for a set of input words.\n",
    "\n",
    "def display_tsne_artists(model, artists, nsample=1000, size1=2, size2=10, offset=5):\n",
    "    \n",
    "    arr = np.empty((0,64), dtype='f')\n",
    "\n",
    "    # add the vector for each of the closest words to the array\n",
    "    for a in range(len(artists)):\n",
    "        id = name2id[artists[a]]\n",
    "        arr = np.append(arr, np.array([model[id]]), axis=0)\n",
    "\n",
    "    voc = [w for w in model.key_to_index]\n",
    "    ids = np.random.choice(range(len(voc)), size=nsample, replace=False)\n",
    "    for w in ids:\n",
    "        wrd_vector = model[voc[w]]\n",
    "        arr = np.append(arr, np.array([wrd_vector]), axis=0)\n",
    "        \n",
    "    # find tsne coords for 2 dimensions\n",
    "    tsne = TSNE(n_components=2, random_state=0)\n",
    "    np.set_printoptions(suppress=True)\n",
    "    Y = tsne.fit_transform(arr)\n",
    "\n",
    "    x_coord = Y[:, 0]\n",
    "    y_coord = Y[:, 1]\n",
    "    # display scatter plot\n",
    "    size=2\n",
    "    plt.scatter(x_coord, y_coord, s=size1)\n",
    "    plt.scatter(x_coord[0:len(artists)], y_coord[0:len(artists)],s=size2)\n",
    "    \n",
    "    # label the input words\n",
    "    for w in range(len(artists)):\n",
    "        plt.annotate(artists[w], xy=(x_coord[w],y_coord[w]), \\\n",
    "                     xytext=(w*offset,w*offset), textcoords='offset points')\n",
    "    plt.show()"
   ]
  },
  {
   "cell_type": "code",
   "execution_count": 23,
   "id": "03cb6a2a",
   "metadata": {},
   "outputs": [
    {
     "data": {
      "image/png": "[encoded data removed]",
      "text/plain": [
       "<Figure size 720x720 with 1 Axes>"
      ]
     },
     "metadata": {
      "needs_background": "light"
     },
     "output_type": "display_data"
    }
   ],
   "source": [
    "%matplotlib inline\n",
    "plt.figure(figsize=(10, 10))\n",
    "display_tsne_artists(music_model.wv, artists=[\"Justin Bieber\", \"Elvis Presley\", \"The Temptations\", \"The Supremes\", \"Queen\", \"Pink Floyd\", \"Adele\", \"Oasis\", \"The Eagles\", \"Linkin Park\", 'Taylor Swift', 'Lady Gaga'])"
   ]
  },
  {
   "cell_type": "markdown",
   "id": "ac6fe667",
   "metadata": {},
   "source": [
    "The music style and active time period are the most important variables for clustering. For example, \"Pink Floyd\" and \"Queen\" belong to the same music genre \"rock\" and they are active at the same time period. We can see that generally the lefter the samples are in the plot, the later their active years are. Also, the up and right clustering is the rock genre artists active on 1960-1990s, and the down cluster is the popular genre artists active on 21st century."
   ]
  }
 ],
 "metadata": {
  "interpreter": {
   "hash": "0b0d0757ee47d7ee28d024a252b5d7dd8b20484f5a8ae99b3e03790cf9a4c886"
  },
  "kernelspec": {
   "display_name": "Python 3.8.8 64-bit ('base': conda)",
   "name": "python3"
  },
  "language_info": {
   "codemirror_mode": {
    "name": "ipython",
    "version": 3
   },
   "file_extension": ".py",
   "mimetype": "text/x-python",
   "name": "python",
   "nbconvert_exporter": "python",
   "pygments_lexer": "ipython3",
   "version": "3.8.8"
  }
 },
 "nbformat": 4,
 "nbformat_minor": 5
}
